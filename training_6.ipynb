{
 "cells": [
  {
   "metadata": {
    "ExecuteTime": {
     "end_time": "2025-05-15T06:26:48.411115Z",
     "start_time": "2025-05-15T06:26:40.253487Z"
    }
   },
   "cell_type": "code",
   "source": [
    "import torch\n",
    "import torch.optim as optim\n",
    "import matplotlib.pyplot as plt\n",
    "from tqdm import tqdm\n",
    "\n",
    "import torch\n",
    "print(torch.cuda.is_available())\n",
    "print(torch.cuda.device_count())\n",
    "print(torch.cuda.get_device_name(0))  # Only if device_count > 0\n",
    "\n",
    "train_loader = torch.load('train_dataloader_aug.pth', weights_only=False)\n",
    "test_loader = torch.load('test_dataloader_aug.pth', weights_only=False)"
   ],
   "id": "c425f6e516c58649",
   "outputs": [
    {
     "name": "stdout",
     "output_type": "stream",
     "text": [
      "True\n",
      "1\n",
      "NVIDIA GeForce RTX 2060\n"
     ]
    }
   ],
   "execution_count": 1
  },
  {
   "metadata": {
    "ExecuteTime": {
     "end_time": "2025-05-15T06:26:48.427106Z",
     "start_time": "2025-05-15T06:26:48.412856Z"
    }
   },
   "cell_type": "code",
   "source": [
    "import torch\n",
    "import torch.nn as nn\n",
    "import torch.nn.functional as F\n",
    "\n",
    "class EmotionRecognition(nn.Module):\n",
    "    def __init__(self):\n",
    "        super(EmotionRecognition, self).__init__()\n",
    "\n",
    "        # Convolutional Block 1\n",
    "        self.conv1 = nn.Conv2d(3, 32, kernel_size=3, padding=1)\n",
    "        self.bn1 = nn.BatchNorm2d(32)\n",
    "\n",
    "        self.conv2 = nn.Conv2d(32, 64, kernel_size=3, padding=1)\n",
    "        self.bn2 = nn.BatchNorm2d(64)\n",
    "\n",
    "        # Convolutional Block 2\n",
    "        self.conv3 = nn.Conv2d(64, 64, kernel_size=3, padding=1)\n",
    "        self.bn3 = nn.BatchNorm2d(64)\n",
    "\n",
    "        self.conv4 = nn.Conv2d(64, 64, kernel_size=3, padding=1)\n",
    "        self.bn4 = nn.BatchNorm2d(64)\n",
    "\n",
    "        self.pool = nn.MaxPool2d(2, 2)\n",
    "        self.dropout = nn.Dropout(0.2)\n",
    "\n",
    "        # Dummy input to determine flatten size after conv layers\n",
    "        with torch.no_grad():\n",
    "            dummy = torch.zeros(1, 3, 48, 48)\n",
    "            dummy = self._forward_conv(dummy)\n",
    "            self.flattened_size = dummy.view(1, -1).size(1)\n",
    "\n",
    "        self.fc1 = nn.Linear(self.flattened_size, 512)\n",
    "        self.fc2 = nn.Linear(512, 7)\n",
    "\n",
    "    def _forward_conv(self, x):\n",
    "        # Only the convolutional part, used for shape inference and forward\n",
    "        x = F.relu(self.bn1(self.conv1(x)))\n",
    "        x = F.relu(self.bn2(self.conv2(x)))\n",
    "        x = self.pool(x)\n",
    "\n",
    "        x = F.relu(self.bn3(self.conv3(x)))\n",
    "        x = F.relu(self.bn4(self.conv4(x)))\n",
    "        x = self.pool(x)\n",
    "        return x\n",
    "\n",
    "    def forward(self, x):\n",
    "        x = self._forward_conv(x)\n",
    "        x = torch.flatten(x, 1)\n",
    "        x = F.relu(self.fc1(x))\n",
    "        x = self.dropout(x)\n",
    "        x = self.fc2(x)\n",
    "        return x\n"
   ],
   "id": "947d35b803ecda4b",
   "outputs": [],
   "execution_count": 2
  },
  {
   "metadata": {
    "ExecuteTime": {
     "end_time": "2025-05-15T06:26:48.437489Z",
     "start_time": "2025-05-15T06:26:48.430355Z"
    }
   },
   "cell_type": "code",
   "source": [
    "class FocalLoss(nn.Module):\n",
    "    def __init__(self, alpha=None, gamma=2.0, reduction='mean'):\n",
    "        \"\"\"\n",
    "        alpha: tensor of shape (num_classes,) for class weights\n",
    "        gamma: focusing parameter\n",
    "        \"\"\"\n",
    "        super(FocalLoss, self).__init__()\n",
    "        self.alpha = alpha  # class weights\n",
    "        self.gamma = gamma\n",
    "        self.reduction = reduction\n",
    "\n",
    "    def forward(self, inputs, targets):\n",
    "        ce_loss = F.cross_entropy(inputs, targets, reduction='none', weight=self.alpha)\n",
    "        pt = torch.exp(-ce_loss)  # pt = probability of the true class\n",
    "        focal_loss = (1 - pt) ** self.gamma * ce_loss\n",
    "\n",
    "        if self.reduction == 'mean':\n",
    "            return focal_loss.mean()\n",
    "        elif self.reduction == 'sum':\n",
    "            return focal_loss.sum()\n",
    "        else:\n",
    "            return focal_loss"
   ],
   "id": "f74163af55602a42",
   "outputs": [],
   "execution_count": 3
  },
  {
   "metadata": {
    "ExecuteTime": {
     "end_time": "2025-05-15T06:26:48.822582Z",
     "start_time": "2025-05-15T06:26:48.444042Z"
    }
   },
   "cell_type": "code",
   "source": [
    "import torch\n",
    "import torch.optim as optim\n",
    "from tqdm import tqdm\n",
    "from sklearn.utils.class_weight import compute_class_weight\n",
    "import numpy as np\n",
    "\n",
    "device = torch.device(\"cuda\" if torch.cuda.is_available() else \"cpu\")\n",
    "torch.manual_seed(42)\n",
    "if device.type == \"cuda\":\n",
    "    torch.cuda.manual_seed(42)\n",
    "print(f\"Using device: {device}\")\n",
    "model = EmotionRecognition().to(device)\n",
    "from torch.optim.lr_scheduler import StepLR\n",
    "import torch.nn as nn\n",
    "\n",
    "class_weights = compute_class_weight(class_weight='balanced',\n",
    "                                     classes=np.unique(train_loader.dataset.targets),\n",
    "                                     y=train_loader.dataset.targets)\n",
    "class_weights_tensor = torch.tensor(class_weights, dtype=torch.float).to(device)\n",
    "\n",
    "criterion = FocalLoss(alpha=class_weights_tensor, gamma=1.5)\n",
    "optimizer = optim.Adam(model.parameters(), lr=0.002, weight_decay=1e-4)\n",
    "scheduler = StepLR(optimizer, step_size=10, gamma=0.5)\n",
    "\n",
    "scaler = torch.cuda.amp.GradScaler() if device.type == \"cuda\" else None\n",
    "\n"
   ],
   "id": "9335bee39bb78271",
   "outputs": [
    {
     "name": "stdout",
     "output_type": "stream",
     "text": [
      "Using device: cuda\n"
     ]
    },
    {
     "name": "stderr",
     "output_type": "stream",
     "text": [
      "C:\\Users\\Korisnik\\AppData\\Local\\Temp\\ipykernel_10624\\1828967484.py:25: FutureWarning: `torch.cuda.amp.GradScaler(args...)` is deprecated. Please use `torch.amp.GradScaler('cuda', args...)` instead.\n",
      "  scaler = torch.cuda.amp.GradScaler() if device.type == \"cuda\" else None\n"
     ]
    }
   ],
   "execution_count": 4
  },
  {
   "metadata": {
    "ExecuteTime": {
     "end_time": "2025-05-15T06:26:49.731055Z",
     "start_time": "2025-05-15T06:26:49.723574Z"
    }
   },
   "cell_type": "code",
   "source": [
    "def train_one_epoch(model, loader, optimizer, criterion, scaler):\n",
    "    model.train()\n",
    "    total_loss, total_correct, total_samples = 0, 0, 0\n",
    "\n",
    "    for images, labels in tqdm(loader, desc=\"Training\", leave=False):\n",
    "        images, labels = images.to(device), labels.to(device)\n",
    "\n",
    "        optimizer.zero_grad()\n",
    "\n",
    "        with torch.cuda.amp.autocast(enabled=scaler is not None):\n",
    "            outputs = model(images)\n",
    "            loss = criterion(outputs, labels)\n",
    "\n",
    "        if scaler:\n",
    "            scaler.scale(loss).backward()\n",
    "            scaler.step(optimizer)\n",
    "            scaler.update()\n",
    "        else:\n",
    "            loss.backward()\n",
    "            optimizer.step()\n",
    "\n",
    "        total_loss += loss.item() * images.size(0)\n",
    "        _, predicted = torch.max(outputs, 1)\n",
    "        total_correct += (predicted == labels).sum().item()\n",
    "        total_samples += labels.size(0)\n",
    "\n",
    "    return total_loss / total_samples, 100. * total_correct / total_samples\n",
    "\n",
    "def evaluate(model, loader):\n",
    "    model.eval()\n",
    "    all_preds, all_labels = [], []\n",
    "\n",
    "    with torch.no_grad():\n",
    "        for images, labels in loader:\n",
    "            images, labels = images.to(device), labels.to(device)\n",
    "            outputs = model(images)\n",
    "            _, predicted = torch.max(outputs, 1)\n",
    "            all_preds.extend(predicted.cpu().numpy())\n",
    "            all_labels.extend(labels.cpu().numpy())\n",
    "\n",
    "    return np.array(all_labels), np.array(all_preds)"
   ],
   "id": "a4e2ad715a7a16ea",
   "outputs": [],
   "execution_count": 5
  },
  {
   "metadata": {
    "ExecuteTime": {
     "end_time": "2025-05-15T08:34:57.684834Z",
     "start_time": "2025-05-15T06:27:52.478307Z"
    }
   },
   "cell_type": "code",
   "source": [
    "best_loss = float('inf')\n",
    "patience = 10\n",
    "epochs_no_improve = 0\n",
    "num_epochs = 100\n",
    "save_path = \"best_model.pth\"\n",
    "\n",
    "for epoch in range(num_epochs):\n",
    "    train_loss, train_acc = train_one_epoch(model, train_loader, optimizer, criterion, scaler)\n",
    "    labels, preds = evaluate(model, test_loader)\n",
    "    test_acc = 100. * np.sum(preds == labels) / len(labels)\n",
    "\n",
    "    scheduler.step()\n",
    "\n",
    "    print(f\"\\nEpoch {epoch+1}/{num_epochs}\")\n",
    "    print(f\"Train Loss: {train_loss:.4f}, Train Acc: {train_acc:.2f}% | Test Acc: {test_acc:.2f}%\")\n",
    "    print(f\"Learning Rate: {scheduler.get_last_lr()[0]:.6f}\")\n",
    "\n",
    "    # Early stopping\n",
    "    if train_loss < best_loss:\n",
    "        best_loss = train_loss\n",
    "        epochs_no_improve = 0\n",
    "        torch.save(model.state_dict(), save_path)\n",
    "        print(\"✅ Saved new best model.\")\n",
    "    else:\n",
    "        epochs_no_improve += 1\n",
    "        if epochs_no_improve >= patience:\n",
    "            print(\"⏹ Early stopping triggered.\")\n",
    "            break"
   ],
   "id": "3c6f0e66f33783f1",
   "outputs": [
    {
     "name": "stderr",
     "output_type": "stream",
     "text": [
      "Training:   0%|          | 0/449 [00:00<?, ?it/s]C:\\Users\\Korisnik\\AppData\\Local\\Temp\\ipykernel_10624\\4020488208.py:10: FutureWarning: `torch.cuda.amp.autocast(args...)` is deprecated. Please use `torch.amp.autocast('cuda', args...)` instead.\n",
      "  with torch.cuda.amp.autocast(enabled=scaler is not None):\n",
      "                                                           \r"
     ]
    },
    {
     "name": "stdout",
     "output_type": "stream",
     "text": [
      "\n",
      "Epoch 1/100\n",
      "Train Loss: 1.4973, Train Acc: 18.12% | Test Acc: 21.82%\n",
      "Learning Rate: 0.002000\n",
      "✅ Saved new best model.\n"
     ]
    },
    {
     "name": "stderr",
     "output_type": "stream",
     "text": [
      "                                                           \r"
     ]
    },
    {
     "name": "stdout",
     "output_type": "stream",
     "text": [
      "\n",
      "Epoch 2/100\n",
      "Train Loss: 1.4587, Train Acc: 20.50% | Test Acc: 22.46%\n",
      "Learning Rate: 0.002000\n",
      "✅ Saved new best model.\n"
     ]
    },
    {
     "name": "stderr",
     "output_type": "stream",
     "text": [
      "                                                           \r"
     ]
    },
    {
     "name": "stdout",
     "output_type": "stream",
     "text": [
      "\n",
      "Epoch 3/100\n",
      "Train Loss: 1.4428, Train Acc: 20.37% | Test Acc: 24.37%\n",
      "Learning Rate: 0.002000\n",
      "✅ Saved new best model.\n"
     ]
    },
    {
     "name": "stderr",
     "output_type": "stream",
     "text": [
      "                                                           \r"
     ]
    },
    {
     "name": "stdout",
     "output_type": "stream",
     "text": [
      "\n",
      "Epoch 4/100\n",
      "Train Loss: 1.4284, Train Acc: 18.65% | Test Acc: 17.05%\n",
      "Learning Rate: 0.002000\n",
      "✅ Saved new best model.\n"
     ]
    },
    {
     "name": "stderr",
     "output_type": "stream",
     "text": [
      "                                                           \r"
     ]
    },
    {
     "name": "stdout",
     "output_type": "stream",
     "text": [
      "\n",
      "Epoch 5/100\n",
      "Train Loss: 1.4182, Train Acc: 14.25% | Test Acc: 22.19%\n",
      "Learning Rate: 0.002000\n",
      "✅ Saved new best model.\n"
     ]
    },
    {
     "name": "stderr",
     "output_type": "stream",
     "text": [
      "                                                           \r"
     ]
    },
    {
     "name": "stdout",
     "output_type": "stream",
     "text": [
      "\n",
      "Epoch 6/100\n",
      "Train Loss: 1.3958, Train Acc: 16.16% | Test Acc: 20.05%\n",
      "Learning Rate: 0.002000\n",
      "✅ Saved new best model.\n"
     ]
    },
    {
     "name": "stderr",
     "output_type": "stream",
     "text": [
      "                                                           \r"
     ]
    },
    {
     "name": "stdout",
     "output_type": "stream",
     "text": [
      "\n",
      "Epoch 7/100\n",
      "Train Loss: 1.3778, Train Acc: 17.06% | Test Acc: 20.41%\n",
      "Learning Rate: 0.002000\n",
      "✅ Saved new best model.\n"
     ]
    },
    {
     "name": "stderr",
     "output_type": "stream",
     "text": [
      "                                                           \r"
     ]
    },
    {
     "name": "stdout",
     "output_type": "stream",
     "text": [
      "\n",
      "Epoch 8/100\n",
      "Train Loss: 1.3622, Train Acc: 19.65% | Test Acc: 20.01%\n",
      "Learning Rate: 0.002000\n",
      "✅ Saved new best model.\n"
     ]
    },
    {
     "name": "stderr",
     "output_type": "stream",
     "text": [
      "                                                           \r"
     ]
    },
    {
     "name": "stdout",
     "output_type": "stream",
     "text": [
      "\n",
      "Epoch 9/100\n",
      "Train Loss: 1.3561, Train Acc: 21.05% | Test Acc: 28.36%\n",
      "Learning Rate: 0.002000\n",
      "✅ Saved new best model.\n"
     ]
    },
    {
     "name": "stderr",
     "output_type": "stream",
     "text": [
      "                                                           \r"
     ]
    },
    {
     "name": "stdout",
     "output_type": "stream",
     "text": [
      "\n",
      "Epoch 10/100\n",
      "Train Loss: 1.3390, Train Acc: 23.54% | Test Acc: 29.66%\n",
      "Learning Rate: 0.001000\n",
      "✅ Saved new best model.\n"
     ]
    },
    {
     "name": "stderr",
     "output_type": "stream",
     "text": [
      "                                                           \r"
     ]
    },
    {
     "name": "stdout",
     "output_type": "stream",
     "text": [
      "\n",
      "Epoch 11/100\n",
      "Train Loss: 1.2699, Train Acc: 28.75% | Test Acc: 39.38%\n",
      "Learning Rate: 0.001000\n",
      "✅ Saved new best model.\n"
     ]
    },
    {
     "name": "stderr",
     "output_type": "stream",
     "text": [
      "                                                           \r"
     ]
    },
    {
     "name": "stdout",
     "output_type": "stream",
     "text": [
      "\n",
      "Epoch 12/100\n",
      "Train Loss: 1.1913, Train Acc: 33.53% | Test Acc: 36.93%\n",
      "Learning Rate: 0.001000\n",
      "✅ Saved new best model.\n"
     ]
    },
    {
     "name": "stderr",
     "output_type": "stream",
     "text": [
      "                                                           \r"
     ]
    },
    {
     "name": "stdout",
     "output_type": "stream",
     "text": [
      "\n",
      "Epoch 13/100\n",
      "Train Loss: 1.1453, Train Acc: 35.82% | Test Acc: 44.19%\n",
      "Learning Rate: 0.001000\n",
      "✅ Saved new best model.\n"
     ]
    },
    {
     "name": "stderr",
     "output_type": "stream",
     "text": [
      "                                                           \r"
     ]
    },
    {
     "name": "stdout",
     "output_type": "stream",
     "text": [
      "\n",
      "Epoch 14/100\n",
      "Train Loss: 1.0968, Train Acc: 38.36% | Test Acc: 46.28%\n",
      "Learning Rate: 0.001000\n",
      "✅ Saved new best model.\n"
     ]
    },
    {
     "name": "stderr",
     "output_type": "stream",
     "text": [
      "                                                           \r"
     ]
    },
    {
     "name": "stdout",
     "output_type": "stream",
     "text": [
      "\n",
      "Epoch 15/100\n",
      "Train Loss: 1.0640, Train Acc: 40.00% | Test Acc: 47.23%\n",
      "Learning Rate: 0.001000\n",
      "✅ Saved new best model.\n"
     ]
    },
    {
     "name": "stderr",
     "output_type": "stream",
     "text": [
      "                                                           \r"
     ]
    },
    {
     "name": "stdout",
     "output_type": "stream",
     "text": [
      "\n",
      "Epoch 16/100\n",
      "Train Loss: 1.0276, Train Acc: 42.69% | Test Acc: 46.20%\n",
      "Learning Rate: 0.001000\n",
      "✅ Saved new best model.\n"
     ]
    },
    {
     "name": "stderr",
     "output_type": "stream",
     "text": [
      "                                                           \r"
     ]
    },
    {
     "name": "stdout",
     "output_type": "stream",
     "text": [
      "\n",
      "Epoch 17/100\n",
      "Train Loss: 0.9973, Train Acc: 43.70% | Test Acc: 48.44%\n",
      "Learning Rate: 0.001000\n",
      "✅ Saved new best model.\n"
     ]
    },
    {
     "name": "stderr",
     "output_type": "stream",
     "text": [
      "                                                           \r"
     ]
    },
    {
     "name": "stdout",
     "output_type": "stream",
     "text": [
      "\n",
      "Epoch 18/100\n",
      "Train Loss: 0.9638, Train Acc: 44.93% | Test Acc: 46.49%\n",
      "Learning Rate: 0.001000\n",
      "✅ Saved new best model.\n"
     ]
    },
    {
     "name": "stderr",
     "output_type": "stream",
     "text": [
      "                                                           \r"
     ]
    },
    {
     "name": "stdout",
     "output_type": "stream",
     "text": [
      "\n",
      "Epoch 19/100\n",
      "Train Loss: 0.9412, Train Acc: 45.58% | Test Acc: 50.04%\n",
      "Learning Rate: 0.001000\n",
      "✅ Saved new best model.\n"
     ]
    },
    {
     "name": "stderr",
     "output_type": "stream",
     "text": [
      "                                                           \r"
     ]
    },
    {
     "name": "stdout",
     "output_type": "stream",
     "text": [
      "\n",
      "Epoch 20/100\n",
      "Train Loss: 0.9280, Train Acc: 47.07% | Test Acc: 50.22%\n",
      "Learning Rate: 0.000500\n",
      "✅ Saved new best model.\n"
     ]
    },
    {
     "name": "stderr",
     "output_type": "stream",
     "text": [
      "                                                           \r"
     ]
    },
    {
     "name": "stdout",
     "output_type": "stream",
     "text": [
      "\n",
      "Epoch 21/100\n",
      "Train Loss: 0.8647, Train Acc: 49.37% | Test Acc: 52.37%\n",
      "Learning Rate: 0.000500\n",
      "✅ Saved new best model.\n"
     ]
    },
    {
     "name": "stderr",
     "output_type": "stream",
     "text": [
      "                                                           \r"
     ]
    },
    {
     "name": "stdout",
     "output_type": "stream",
     "text": [
      "\n",
      "Epoch 22/100\n",
      "Train Loss: 0.8403, Train Acc: 50.07% | Test Acc: 53.20%\n",
      "Learning Rate: 0.000500\n",
      "✅ Saved new best model.\n"
     ]
    },
    {
     "name": "stderr",
     "output_type": "stream",
     "text": [
      "                                                           \r"
     ]
    },
    {
     "name": "stdout",
     "output_type": "stream",
     "text": [
      "\n",
      "Epoch 23/100\n",
      "Train Loss: 0.8218, Train Acc: 50.95% | Test Acc: 54.01%\n",
      "Learning Rate: 0.000500\n",
      "✅ Saved new best model.\n"
     ]
    },
    {
     "name": "stderr",
     "output_type": "stream",
     "text": [
      "                                                           \r"
     ]
    },
    {
     "name": "stdout",
     "output_type": "stream",
     "text": [
      "\n",
      "Epoch 24/100\n",
      "Train Loss: 0.7960, Train Acc: 51.37% | Test Acc: 55.15%\n",
      "Learning Rate: 0.000500\n",
      "✅ Saved new best model.\n"
     ]
    },
    {
     "name": "stderr",
     "output_type": "stream",
     "text": [
      "                                                           \r"
     ]
    },
    {
     "name": "stdout",
     "output_type": "stream",
     "text": [
      "\n",
      "Epoch 25/100\n",
      "Train Loss: 0.7783, Train Acc: 52.53% | Test Acc: 54.96%\n",
      "Learning Rate: 0.000500\n",
      "✅ Saved new best model.\n"
     ]
    },
    {
     "name": "stderr",
     "output_type": "stream",
     "text": [
      "                                                           \r"
     ]
    },
    {
     "name": "stdout",
     "output_type": "stream",
     "text": [
      "\n",
      "Epoch 26/100\n",
      "Train Loss: 0.7674, Train Acc: 52.65% | Test Acc: 55.07%\n",
      "Learning Rate: 0.000500\n",
      "✅ Saved new best model.\n"
     ]
    },
    {
     "name": "stderr",
     "output_type": "stream",
     "text": [
      "                                                           \r"
     ]
    },
    {
     "name": "stdout",
     "output_type": "stream",
     "text": [
      "\n",
      "Epoch 27/100\n",
      "Train Loss: 0.7571, Train Acc: 53.01% | Test Acc: 54.53%\n",
      "Learning Rate: 0.000500\n",
      "✅ Saved new best model.\n"
     ]
    },
    {
     "name": "stderr",
     "output_type": "stream",
     "text": [
      "                                                           \r"
     ]
    },
    {
     "name": "stdout",
     "output_type": "stream",
     "text": [
      "\n",
      "Epoch 28/100\n",
      "Train Loss: 0.7522, Train Acc: 53.60% | Test Acc: 55.17%\n",
      "Learning Rate: 0.000500\n",
      "✅ Saved new best model.\n"
     ]
    },
    {
     "name": "stderr",
     "output_type": "stream",
     "text": [
      "                                                           \r"
     ]
    },
    {
     "name": "stdout",
     "output_type": "stream",
     "text": [
      "\n",
      "Epoch 29/100\n",
      "Train Loss: 0.7268, Train Acc: 54.10% | Test Acc: 55.14%\n",
      "Learning Rate: 0.000500\n",
      "✅ Saved new best model.\n"
     ]
    },
    {
     "name": "stderr",
     "output_type": "stream",
     "text": [
      "                                                           \r"
     ]
    },
    {
     "name": "stdout",
     "output_type": "stream",
     "text": [
      "\n",
      "Epoch 30/100\n",
      "Train Loss: 0.7244, Train Acc: 54.32% | Test Acc: 54.42%\n",
      "Learning Rate: 0.000250\n",
      "✅ Saved new best model.\n"
     ]
    },
    {
     "name": "stderr",
     "output_type": "stream",
     "text": [
      "                                                           \r"
     ]
    },
    {
     "name": "stdout",
     "output_type": "stream",
     "text": [
      "\n",
      "Epoch 31/100\n",
      "Train Loss: 0.6896, Train Acc: 55.59% | Test Acc: 57.43%\n",
      "Learning Rate: 0.000250\n",
      "✅ Saved new best model.\n"
     ]
    },
    {
     "name": "stderr",
     "output_type": "stream",
     "text": [
      "                                                           \r"
     ]
    },
    {
     "name": "stdout",
     "output_type": "stream",
     "text": [
      "\n",
      "Epoch 32/100\n",
      "Train Loss: 0.6728, Train Acc: 56.20% | Test Acc: 56.27%\n",
      "Learning Rate: 0.000250\n",
      "✅ Saved new best model.\n"
     ]
    },
    {
     "name": "stderr",
     "output_type": "stream",
     "text": [
      "                                                           \r"
     ]
    },
    {
     "name": "stdout",
     "output_type": "stream",
     "text": [
      "\n",
      "Epoch 33/100\n",
      "Train Loss: 0.6646, Train Acc: 56.59% | Test Acc: 56.77%\n",
      "Learning Rate: 0.000250\n",
      "✅ Saved new best model.\n"
     ]
    },
    {
     "name": "stderr",
     "output_type": "stream",
     "text": [
      "                                                           \r"
     ]
    },
    {
     "name": "stdout",
     "output_type": "stream",
     "text": [
      "\n",
      "Epoch 34/100\n",
      "Train Loss: 0.6602, Train Acc: 56.76% | Test Acc: 57.22%\n",
      "Learning Rate: 0.000250\n",
      "✅ Saved new best model.\n"
     ]
    },
    {
     "name": "stderr",
     "output_type": "stream",
     "text": [
      "                                                           \r"
     ]
    },
    {
     "name": "stdout",
     "output_type": "stream",
     "text": [
      "\n",
      "Epoch 35/100\n",
      "Train Loss: 0.6432, Train Acc: 57.51% | Test Acc: 56.77%\n",
      "Learning Rate: 0.000250\n",
      "✅ Saved new best model.\n"
     ]
    },
    {
     "name": "stderr",
     "output_type": "stream",
     "text": [
      "                                                           \r"
     ]
    },
    {
     "name": "stdout",
     "output_type": "stream",
     "text": [
      "\n",
      "Epoch 36/100\n",
      "Train Loss: 0.6450, Train Acc: 57.29% | Test Acc: 57.82%\n",
      "Learning Rate: 0.000250\n"
     ]
    },
    {
     "name": "stderr",
     "output_type": "stream",
     "text": [
      "                                                           \r"
     ]
    },
    {
     "name": "stdout",
     "output_type": "stream",
     "text": [
      "\n",
      "Epoch 37/100\n",
      "Train Loss: 0.6320, Train Acc: 57.94% | Test Acc: 57.82%\n",
      "Learning Rate: 0.000250\n",
      "✅ Saved new best model.\n"
     ]
    },
    {
     "name": "stderr",
     "output_type": "stream",
     "text": [
      "                                                           \r"
     ]
    },
    {
     "name": "stdout",
     "output_type": "stream",
     "text": [
      "\n",
      "Epoch 38/100\n",
      "Train Loss: 0.6348, Train Acc: 57.34% | Test Acc: 57.62%\n",
      "Learning Rate: 0.000250\n"
     ]
    },
    {
     "name": "stderr",
     "output_type": "stream",
     "text": [
      "                                                           \r"
     ]
    },
    {
     "name": "stdout",
     "output_type": "stream",
     "text": [
      "\n",
      "Epoch 39/100\n",
      "Train Loss: 0.6220, Train Acc: 58.20% | Test Acc: 57.59%\n",
      "Learning Rate: 0.000250\n",
      "✅ Saved new best model.\n"
     ]
    },
    {
     "name": "stderr",
     "output_type": "stream",
     "text": [
      "                                                           \r"
     ]
    },
    {
     "name": "stdout",
     "output_type": "stream",
     "text": [
      "\n",
      "Epoch 40/100\n",
      "Train Loss: 0.6166, Train Acc: 58.31% | Test Acc: 58.07%\n",
      "Learning Rate: 0.000125\n",
      "✅ Saved new best model.\n"
     ]
    },
    {
     "name": "stderr",
     "output_type": "stream",
     "text": [
      "                                                           \r"
     ]
    },
    {
     "name": "stdout",
     "output_type": "stream",
     "text": [
      "\n",
      "Epoch 41/100\n",
      "Train Loss: 0.6013, Train Acc: 58.97% | Test Acc: 58.09%\n",
      "Learning Rate: 0.000125\n",
      "✅ Saved new best model.\n"
     ]
    },
    {
     "name": "stderr",
     "output_type": "stream",
     "text": [
      "                                                           \r"
     ]
    },
    {
     "name": "stdout",
     "output_type": "stream",
     "text": [
      "\n",
      "Epoch 42/100\n",
      "Train Loss: 0.6030, Train Acc: 59.49% | Test Acc: 58.26%\n",
      "Learning Rate: 0.000125\n"
     ]
    },
    {
     "name": "stderr",
     "output_type": "stream",
     "text": [
      "                                                           \r"
     ]
    },
    {
     "name": "stdout",
     "output_type": "stream",
     "text": [
      "\n",
      "Epoch 43/100\n",
      "Train Loss: 0.5873, Train Acc: 59.78% | Test Acc: 57.90%\n",
      "Learning Rate: 0.000125\n",
      "✅ Saved new best model.\n"
     ]
    },
    {
     "name": "stderr",
     "output_type": "stream",
     "text": [
      "                                                           \r"
     ]
    },
    {
     "name": "stdout",
     "output_type": "stream",
     "text": [
      "\n",
      "Epoch 44/100\n",
      "Train Loss: 0.5791, Train Acc: 60.21% | Test Acc: 58.02%\n",
      "Learning Rate: 0.000125\n",
      "✅ Saved new best model.\n"
     ]
    },
    {
     "name": "stderr",
     "output_type": "stream",
     "text": [
      "                                                           \r"
     ]
    },
    {
     "name": "stdout",
     "output_type": "stream",
     "text": [
      "\n",
      "Epoch 45/100\n",
      "Train Loss: 0.5787, Train Acc: 59.89% | Test Acc: 58.54%\n",
      "Learning Rate: 0.000125\n",
      "✅ Saved new best model.\n"
     ]
    },
    {
     "name": "stderr",
     "output_type": "stream",
     "text": [
      "                                                           \r"
     ]
    },
    {
     "name": "stdout",
     "output_type": "stream",
     "text": [
      "\n",
      "Epoch 46/100\n",
      "Train Loss: 0.5712, Train Acc: 60.23% | Test Acc: 58.80%\n",
      "Learning Rate: 0.000125\n",
      "✅ Saved new best model.\n"
     ]
    },
    {
     "name": "stderr",
     "output_type": "stream",
     "text": [
      "                                                           \r"
     ]
    },
    {
     "name": "stdout",
     "output_type": "stream",
     "text": [
      "\n",
      "Epoch 47/100\n",
      "Train Loss: 0.5776, Train Acc: 60.36% | Test Acc: 58.51%\n",
      "Learning Rate: 0.000125\n"
     ]
    },
    {
     "name": "stderr",
     "output_type": "stream",
     "text": [
      "                                                           \r"
     ]
    },
    {
     "name": "stdout",
     "output_type": "stream",
     "text": [
      "\n",
      "Epoch 48/100\n",
      "Train Loss: 0.5668, Train Acc: 60.41% | Test Acc: 58.75%\n",
      "Learning Rate: 0.000125\n",
      "✅ Saved new best model.\n"
     ]
    },
    {
     "name": "stderr",
     "output_type": "stream",
     "text": [
      "                                                           \r"
     ]
    },
    {
     "name": "stdout",
     "output_type": "stream",
     "text": [
      "\n",
      "Epoch 49/100\n",
      "Train Loss: 0.5734, Train Acc: 60.21% | Test Acc: 58.92%\n",
      "Learning Rate: 0.000125\n"
     ]
    },
    {
     "name": "stderr",
     "output_type": "stream",
     "text": [
      "                                                           \r"
     ]
    },
    {
     "name": "stdout",
     "output_type": "stream",
     "text": [
      "\n",
      "Epoch 50/100\n",
      "Train Loss: 0.5655, Train Acc: 60.56% | Test Acc: 59.04%\n",
      "Learning Rate: 0.000063\n",
      "✅ Saved new best model.\n"
     ]
    },
    {
     "name": "stderr",
     "output_type": "stream",
     "text": [
      "                                                           \r"
     ]
    },
    {
     "name": "stdout",
     "output_type": "stream",
     "text": [
      "\n",
      "Epoch 51/100\n",
      "Train Loss: 0.5571, Train Acc: 61.17% | Test Acc: 59.32%\n",
      "Learning Rate: 0.000063\n",
      "✅ Saved new best model.\n"
     ]
    },
    {
     "name": "stderr",
     "output_type": "stream",
     "text": [
      "                                                           \r"
     ]
    },
    {
     "name": "stdout",
     "output_type": "stream",
     "text": [
      "\n",
      "Epoch 52/100\n",
      "Train Loss: 0.5464, Train Acc: 61.42% | Test Acc: 58.72%\n",
      "Learning Rate: 0.000063\n",
      "✅ Saved new best model.\n"
     ]
    },
    {
     "name": "stderr",
     "output_type": "stream",
     "text": [
      "                                                           \r"
     ]
    },
    {
     "name": "stdout",
     "output_type": "stream",
     "text": [
      "\n",
      "Epoch 53/100\n",
      "Train Loss: 0.5545, Train Acc: 61.36% | Test Acc: 59.49%\n",
      "Learning Rate: 0.000063\n"
     ]
    },
    {
     "name": "stderr",
     "output_type": "stream",
     "text": [
      "                                                           \r"
     ]
    },
    {
     "name": "stdout",
     "output_type": "stream",
     "text": [
      "\n",
      "Epoch 54/100\n",
      "Train Loss: 0.5501, Train Acc: 61.02% | Test Acc: 59.36%\n",
      "Learning Rate: 0.000063\n"
     ]
    },
    {
     "name": "stderr",
     "output_type": "stream",
     "text": [
      "                                                           \r"
     ]
    },
    {
     "name": "stdout",
     "output_type": "stream",
     "text": [
      "\n",
      "Epoch 55/100\n",
      "Train Loss: 0.5455, Train Acc: 61.55% | Test Acc: 59.03%\n",
      "Learning Rate: 0.000063\n",
      "✅ Saved new best model.\n"
     ]
    },
    {
     "name": "stderr",
     "output_type": "stream",
     "text": [
      "                                                           \r"
     ]
    },
    {
     "name": "stdout",
     "output_type": "stream",
     "text": [
      "\n",
      "Epoch 56/100\n",
      "Train Loss: 0.5450, Train Acc: 61.70% | Test Acc: 58.89%\n",
      "Learning Rate: 0.000063\n",
      "✅ Saved new best model.\n"
     ]
    },
    {
     "name": "stderr",
     "output_type": "stream",
     "text": [
      "                                                           \r"
     ]
    },
    {
     "name": "stdout",
     "output_type": "stream",
     "text": [
      "\n",
      "Epoch 57/100\n",
      "Train Loss: 0.5378, Train Acc: 61.82% | Test Acc: 59.38%\n",
      "Learning Rate: 0.000063\n",
      "✅ Saved new best model.\n"
     ]
    },
    {
     "name": "stderr",
     "output_type": "stream",
     "text": [
      "                                                           \r"
     ]
    },
    {
     "name": "stdout",
     "output_type": "stream",
     "text": [
      "\n",
      "Epoch 58/100\n",
      "Train Loss: 0.5388, Train Acc: 62.04% | Test Acc: 59.25%\n",
      "Learning Rate: 0.000063\n"
     ]
    },
    {
     "name": "stderr",
     "output_type": "stream",
     "text": [
      "                                                           \r"
     ]
    },
    {
     "name": "stdout",
     "output_type": "stream",
     "text": [
      "\n",
      "Epoch 59/100\n",
      "Train Loss: 0.5357, Train Acc: 62.10% | Test Acc: 58.96%\n",
      "Learning Rate: 0.000063\n",
      "✅ Saved new best model.\n"
     ]
    },
    {
     "name": "stderr",
     "output_type": "stream",
     "text": [
      "                                                           \r"
     ]
    },
    {
     "name": "stdout",
     "output_type": "stream",
     "text": [
      "\n",
      "Epoch 60/100\n",
      "Train Loss: 0.5351, Train Acc: 62.03% | Test Acc: 58.93%\n",
      "Learning Rate: 0.000031\n",
      "✅ Saved new best model.\n"
     ]
    },
    {
     "name": "stderr",
     "output_type": "stream",
     "text": [
      "                                                           \r"
     ]
    },
    {
     "name": "stdout",
     "output_type": "stream",
     "text": [
      "\n",
      "Epoch 61/100\n",
      "Train Loss: 0.5307, Train Acc: 62.01% | Test Acc: 59.14%\n",
      "Learning Rate: 0.000031\n",
      "✅ Saved new best model.\n"
     ]
    },
    {
     "name": "stderr",
     "output_type": "stream",
     "text": [
      "                                                           \r"
     ]
    },
    {
     "name": "stdout",
     "output_type": "stream",
     "text": [
      "\n",
      "Epoch 62/100\n",
      "Train Loss: 0.5269, Train Acc: 62.36% | Test Acc: 59.32%\n",
      "Learning Rate: 0.000031\n",
      "✅ Saved new best model.\n"
     ]
    },
    {
     "name": "stderr",
     "output_type": "stream",
     "text": [
      "                                                           \r"
     ]
    },
    {
     "name": "stdout",
     "output_type": "stream",
     "text": [
      "\n",
      "Epoch 63/100\n",
      "Train Loss: 0.5319, Train Acc: 62.27% | Test Acc: 58.80%\n",
      "Learning Rate: 0.000031\n"
     ]
    },
    {
     "name": "stderr",
     "output_type": "stream",
     "text": [
      "                                                           \r"
     ]
    },
    {
     "name": "stdout",
     "output_type": "stream",
     "text": [
      "\n",
      "Epoch 64/100\n",
      "Train Loss: 0.5286, Train Acc: 62.14% | Test Acc: 59.31%\n",
      "Learning Rate: 0.000031\n"
     ]
    },
    {
     "name": "stderr",
     "output_type": "stream",
     "text": [
      "                                                           \r"
     ]
    },
    {
     "name": "stdout",
     "output_type": "stream",
     "text": [
      "\n",
      "Epoch 65/100\n",
      "Train Loss: 0.5255, Train Acc: 62.56% | Test Acc: 59.04%\n",
      "Learning Rate: 0.000031\n",
      "✅ Saved new best model.\n"
     ]
    },
    {
     "name": "stderr",
     "output_type": "stream",
     "text": [
      "                                                           \r"
     ]
    },
    {
     "name": "stdout",
     "output_type": "stream",
     "text": [
      "\n",
      "Epoch 66/100\n",
      "Train Loss: 0.5219, Train Acc: 62.60% | Test Acc: 58.89%\n",
      "Learning Rate: 0.000031\n",
      "✅ Saved new best model.\n"
     ]
    },
    {
     "name": "stderr",
     "output_type": "stream",
     "text": [
      "                                                           \r"
     ]
    },
    {
     "name": "stdout",
     "output_type": "stream",
     "text": [
      "\n",
      "Epoch 67/100\n",
      "Train Loss: 0.5250, Train Acc: 62.13% | Test Acc: 58.89%\n",
      "Learning Rate: 0.000031\n"
     ]
    },
    {
     "name": "stderr",
     "output_type": "stream",
     "text": [
      "                                                           \r"
     ]
    },
    {
     "name": "stdout",
     "output_type": "stream",
     "text": [
      "\n",
      "Epoch 68/100\n",
      "Train Loss: 0.5185, Train Acc: 62.61% | Test Acc: 58.72%\n",
      "Learning Rate: 0.000031\n",
      "✅ Saved new best model.\n"
     ]
    },
    {
     "name": "stderr",
     "output_type": "stream",
     "text": [
      "                                                           \r"
     ]
    },
    {
     "name": "stdout",
     "output_type": "stream",
     "text": [
      "\n",
      "Epoch 69/100\n",
      "Train Loss: 0.5243, Train Acc: 62.69% | Test Acc: 59.10%\n",
      "Learning Rate: 0.000031\n"
     ]
    },
    {
     "name": "stderr",
     "output_type": "stream",
     "text": [
      "                                                           \r"
     ]
    },
    {
     "name": "stdout",
     "output_type": "stream",
     "text": [
      "\n",
      "Epoch 70/100\n",
      "Train Loss: 0.5268, Train Acc: 62.48% | Test Acc: 59.04%\n",
      "Learning Rate: 0.000016\n"
     ]
    },
    {
     "name": "stderr",
     "output_type": "stream",
     "text": [
      "                                                           \r"
     ]
    },
    {
     "name": "stdout",
     "output_type": "stream",
     "text": [
      "\n",
      "Epoch 71/100\n",
      "Train Loss: 0.5163, Train Acc: 62.69% | Test Acc: 58.92%\n",
      "Learning Rate: 0.000016\n",
      "✅ Saved new best model.\n"
     ]
    },
    {
     "name": "stderr",
     "output_type": "stream",
     "text": [
      "                                                           \r"
     ]
    },
    {
     "name": "stdout",
     "output_type": "stream",
     "text": [
      "\n",
      "Epoch 72/100\n",
      "Train Loss: 0.5210, Train Acc: 62.93% | Test Acc: 59.14%\n",
      "Learning Rate: 0.000016\n"
     ]
    },
    {
     "name": "stderr",
     "output_type": "stream",
     "text": [
      "                                                           \r"
     ]
    },
    {
     "name": "stdout",
     "output_type": "stream",
     "text": [
      "\n",
      "Epoch 73/100\n",
      "Train Loss: 0.5162, Train Acc: 62.63% | Test Acc: 59.25%\n",
      "Learning Rate: 0.000016\n",
      "✅ Saved new best model.\n"
     ]
    },
    {
     "name": "stderr",
     "output_type": "stream",
     "text": [
      "                                                           \r"
     ]
    },
    {
     "name": "stdout",
     "output_type": "stream",
     "text": [
      "\n",
      "Epoch 74/100\n",
      "Train Loss: 0.5183, Train Acc: 62.68% | Test Acc: 59.42%\n",
      "Learning Rate: 0.000016\n"
     ]
    },
    {
     "name": "stderr",
     "output_type": "stream",
     "text": [
      "                                                           \r"
     ]
    },
    {
     "name": "stdout",
     "output_type": "stream",
     "text": [
      "\n",
      "Epoch 75/100\n",
      "Train Loss: 0.5137, Train Acc: 63.10% | Test Acc: 59.17%\n",
      "Learning Rate: 0.000016\n",
      "✅ Saved new best model.\n"
     ]
    },
    {
     "name": "stderr",
     "output_type": "stream",
     "text": [
      "                                                           \r"
     ]
    },
    {
     "name": "stdout",
     "output_type": "stream",
     "text": [
      "\n",
      "Epoch 76/100\n",
      "Train Loss: 0.5144, Train Acc: 62.68% | Test Acc: 59.38%\n",
      "Learning Rate: 0.000016\n"
     ]
    },
    {
     "name": "stderr",
     "output_type": "stream",
     "text": [
      "                                                           \r"
     ]
    },
    {
     "name": "stdout",
     "output_type": "stream",
     "text": [
      "\n",
      "Epoch 77/100\n",
      "Train Loss: 0.5149, Train Acc: 62.69% | Test Acc: 59.39%\n",
      "Learning Rate: 0.000016\n"
     ]
    },
    {
     "name": "stderr",
     "output_type": "stream",
     "text": [
      "                                                           \r"
     ]
    },
    {
     "name": "stdout",
     "output_type": "stream",
     "text": [
      "\n",
      "Epoch 78/100\n",
      "Train Loss: 0.5126, Train Acc: 63.04% | Test Acc: 59.15%\n",
      "Learning Rate: 0.000016\n",
      "✅ Saved new best model.\n"
     ]
    },
    {
     "name": "stderr",
     "output_type": "stream",
     "text": [
      "                                                           \r"
     ]
    },
    {
     "name": "stdout",
     "output_type": "stream",
     "text": [
      "\n",
      "Epoch 79/100\n",
      "Train Loss: 0.5130, Train Acc: 62.97% | Test Acc: 59.43%\n",
      "Learning Rate: 0.000016\n"
     ]
    },
    {
     "name": "stderr",
     "output_type": "stream",
     "text": [
      "                                                           \r"
     ]
    },
    {
     "name": "stdout",
     "output_type": "stream",
     "text": [
      "\n",
      "Epoch 80/100\n",
      "Train Loss: 0.5108, Train Acc: 62.85% | Test Acc: 59.24%\n",
      "Learning Rate: 0.000008\n",
      "✅ Saved new best model.\n"
     ]
    },
    {
     "name": "stderr",
     "output_type": "stream",
     "text": [
      "                                                           \r"
     ]
    },
    {
     "name": "stdout",
     "output_type": "stream",
     "text": [
      "\n",
      "Epoch 81/100\n",
      "Train Loss: 0.5133, Train Acc: 62.85% | Test Acc: 59.36%\n",
      "Learning Rate: 0.000008\n"
     ]
    },
    {
     "name": "stderr",
     "output_type": "stream",
     "text": [
      "                                                           \r"
     ]
    },
    {
     "name": "stdout",
     "output_type": "stream",
     "text": [
      "\n",
      "Epoch 82/100\n",
      "Train Loss: 0.5119, Train Acc: 62.85% | Test Acc: 59.06%\n",
      "Learning Rate: 0.000008\n"
     ]
    },
    {
     "name": "stderr",
     "output_type": "stream",
     "text": [
      "                                                           \r"
     ]
    },
    {
     "name": "stdout",
     "output_type": "stream",
     "text": [
      "\n",
      "Epoch 83/100\n",
      "Train Loss: 0.5159, Train Acc: 62.56% | Test Acc: 59.28%\n",
      "Learning Rate: 0.000008\n"
     ]
    },
    {
     "name": "stderr",
     "output_type": "stream",
     "text": [
      "                                                           \r"
     ]
    },
    {
     "name": "stdout",
     "output_type": "stream",
     "text": [
      "\n",
      "Epoch 84/100\n",
      "Train Loss: 0.5142, Train Acc: 62.62% | Test Acc: 59.25%\n",
      "Learning Rate: 0.000008\n"
     ]
    },
    {
     "name": "stderr",
     "output_type": "stream",
     "text": [
      "                                                           \r"
     ]
    },
    {
     "name": "stdout",
     "output_type": "stream",
     "text": [
      "\n",
      "Epoch 85/100\n",
      "Train Loss: 0.5128, Train Acc: 62.58% | Test Acc: 59.38%\n",
      "Learning Rate: 0.000008\n"
     ]
    },
    {
     "name": "stderr",
     "output_type": "stream",
     "text": [
      "                                                           \r"
     ]
    },
    {
     "name": "stdout",
     "output_type": "stream",
     "text": [
      "\n",
      "Epoch 86/100\n",
      "Train Loss: 0.5103, Train Acc: 63.19% | Test Acc: 59.29%\n",
      "Learning Rate: 0.000008\n",
      "✅ Saved new best model.\n"
     ]
    },
    {
     "name": "stderr",
     "output_type": "stream",
     "text": [
      "                                                           \r"
     ]
    },
    {
     "name": "stdout",
     "output_type": "stream",
     "text": [
      "\n",
      "Epoch 87/100\n",
      "Train Loss: 0.5162, Train Acc: 62.53% | Test Acc: 59.32%\n",
      "Learning Rate: 0.000008\n"
     ]
    },
    {
     "name": "stderr",
     "output_type": "stream",
     "text": [
      "                                                           \r"
     ]
    },
    {
     "name": "stdout",
     "output_type": "stream",
     "text": [
      "\n",
      "Epoch 88/100\n",
      "Train Loss: 0.5118, Train Acc: 62.98% | Test Acc: 59.39%\n",
      "Learning Rate: 0.000008\n"
     ]
    },
    {
     "name": "stderr",
     "output_type": "stream",
     "text": [
      "                                                           \r"
     ]
    },
    {
     "name": "stdout",
     "output_type": "stream",
     "text": [
      "\n",
      "Epoch 89/100\n",
      "Train Loss: 0.5045, Train Acc: 63.41% | Test Acc: 59.32%\n",
      "Learning Rate: 0.000008\n",
      "✅ Saved new best model.\n"
     ]
    },
    {
     "name": "stderr",
     "output_type": "stream",
     "text": [
      "                                                           \r"
     ]
    },
    {
     "name": "stdout",
     "output_type": "stream",
     "text": [
      "\n",
      "Epoch 90/100\n",
      "Train Loss: 0.5114, Train Acc: 63.05% | Test Acc: 59.42%\n",
      "Learning Rate: 0.000004\n"
     ]
    },
    {
     "name": "stderr",
     "output_type": "stream",
     "text": [
      "                                                           \r"
     ]
    },
    {
     "name": "stdout",
     "output_type": "stream",
     "text": [
      "\n",
      "Epoch 91/100\n",
      "Train Loss: 0.5098, Train Acc: 62.83% | Test Acc: 59.57%\n",
      "Learning Rate: 0.000004\n"
     ]
    },
    {
     "name": "stderr",
     "output_type": "stream",
     "text": [
      "                                                           \r"
     ]
    },
    {
     "name": "stdout",
     "output_type": "stream",
     "text": [
      "\n",
      "Epoch 92/100\n",
      "Train Loss: 0.5108, Train Acc: 63.44% | Test Acc: 59.35%\n",
      "Learning Rate: 0.000004\n"
     ]
    },
    {
     "name": "stderr",
     "output_type": "stream",
     "text": [
      "                                                           \r"
     ]
    },
    {
     "name": "stdout",
     "output_type": "stream",
     "text": [
      "\n",
      "Epoch 93/100\n",
      "Train Loss: 0.5132, Train Acc: 63.05% | Test Acc: 59.33%\n",
      "Learning Rate: 0.000004\n"
     ]
    },
    {
     "name": "stderr",
     "output_type": "stream",
     "text": [
      "                                                           \r"
     ]
    },
    {
     "name": "stdout",
     "output_type": "stream",
     "text": [
      "\n",
      "Epoch 94/100\n",
      "Train Loss: 0.5079, Train Acc: 63.14% | Test Acc: 59.42%\n",
      "Learning Rate: 0.000004\n"
     ]
    },
    {
     "name": "stderr",
     "output_type": "stream",
     "text": [
      "                                                           \r"
     ]
    },
    {
     "name": "stdout",
     "output_type": "stream",
     "text": [
      "\n",
      "Epoch 95/100\n",
      "Train Loss: 0.5086, Train Acc: 63.30% | Test Acc: 59.64%\n",
      "Learning Rate: 0.000004\n"
     ]
    },
    {
     "name": "stderr",
     "output_type": "stream",
     "text": [
      "                                                           \r"
     ]
    },
    {
     "name": "stdout",
     "output_type": "stream",
     "text": [
      "\n",
      "Epoch 96/100\n",
      "Train Loss: 0.5056, Train Acc: 63.49% | Test Acc: 59.53%\n",
      "Learning Rate: 0.000004\n"
     ]
    },
    {
     "name": "stderr",
     "output_type": "stream",
     "text": [
      "                                                           \r"
     ]
    },
    {
     "name": "stdout",
     "output_type": "stream",
     "text": [
      "\n",
      "Epoch 97/100\n",
      "Train Loss: 0.5129, Train Acc: 62.84% | Test Acc: 59.38%\n",
      "Learning Rate: 0.000004\n"
     ]
    },
    {
     "name": "stderr",
     "output_type": "stream",
     "text": [
      "                                                           \r"
     ]
    },
    {
     "name": "stdout",
     "output_type": "stream",
     "text": [
      "\n",
      "Epoch 98/100\n",
      "Train Loss: 0.5040, Train Acc: 63.29% | Test Acc: 59.50%\n",
      "Learning Rate: 0.000004\n",
      "✅ Saved new best model.\n"
     ]
    },
    {
     "name": "stderr",
     "output_type": "stream",
     "text": [
      "                                                           \r"
     ]
    },
    {
     "name": "stdout",
     "output_type": "stream",
     "text": [
      "\n",
      "Epoch 99/100\n",
      "Train Loss: 0.5053, Train Acc: 63.12% | Test Acc: 59.47%\n",
      "Learning Rate: 0.000004\n"
     ]
    },
    {
     "name": "stderr",
     "output_type": "stream",
     "text": [
      "                                                           \r"
     ]
    },
    {
     "name": "stdout",
     "output_type": "stream",
     "text": [
      "\n",
      "Epoch 100/100\n",
      "Train Loss: 0.5109, Train Acc: 63.37% | Test Acc: 59.33%\n",
      "Learning Rate: 0.000002\n"
     ]
    }
   ],
   "execution_count": 7
  },
  {
   "metadata": {
    "ExecuteTime": {
     "end_time": "2025-05-15T08:40:17.479216Z",
     "start_time": "2025-05-15T08:39:14.031906Z"
    }
   },
   "cell_type": "code",
   "source": [
    "from sklearn.metrics import classification_report, confusion_matrix\n",
    "\n",
    "# Final evaluation\n",
    "model.load_state_dict(torch.load(save_path))\n",
    "model.eval()\n",
    "labels, preds = evaluate(model, test_loader)\n",
    "\n",
    "emotion_labels = ['Angry', 'Disgust', 'Fear', 'Happy', 'Sad', 'Surprise', 'Neutral']\n",
    "print(\"\\nClassification Report:\")\n",
    "print(classification_report(labels, preds, target_names=emotion_labels))\n",
    "print(\"Confusion Matrix:\")\n",
    "print(confusion_matrix(labels, preds))"
   ],
   "id": "4f87a856594b1127",
   "outputs": [
    {
     "name": "stdout",
     "output_type": "stream",
     "text": [
      "\n",
      "Classification Report:\n",
      "              precision    recall  f1-score   support\n",
      "\n",
      "       Angry       0.49      0.54      0.51       958\n",
      "     Disgust       0.59      0.68      0.63       111\n",
      "        Fear       0.42      0.36      0.39      1024\n",
      "       Happy       0.87      0.73      0.80      1774\n",
      "         Sad       0.55      0.60      0.57      1233\n",
      "    Surprise       0.45      0.47      0.46      1247\n",
      "     Neutral       0.70      0.82      0.76       831\n",
      "\n",
      "    accuracy                           0.60      7178\n",
      "   macro avg       0.58      0.60      0.59      7178\n",
      "weighted avg       0.60      0.60      0.60      7178\n",
      "\n",
      "Confusion Matrix:\n",
      "[[ 519   22  116   33   91  147   30]\n",
      " [  19   75    5    2    2    7    1]\n",
      " [ 145    6  369   24  125  218  137]\n",
      " [ 101    3   55 1300  145  105   65]\n",
      " [  95    7   79   61  739  223   29]\n",
      " [ 161   10  188   45  232  587   24]\n",
      " [  21    4   63   25   16   20  682]]\n"
     ]
    }
   ],
   "execution_count": 8
  },
  {
   "metadata": {},
   "cell_type": "code",
   "outputs": [],
   "execution_count": null,
   "source": "",
   "id": "b25a5afc5be8ee3c"
  }
 ],
 "metadata": {
  "kernelspec": {
   "display_name": "Python 3",
   "language": "python",
   "name": "python3"
  },
  "language_info": {
   "codemirror_mode": {
    "name": "ipython",
    "version": 2
   },
   "file_extension": ".py",
   "mimetype": "text/x-python",
   "name": "python",
   "nbconvert_exporter": "python",
   "pygments_lexer": "ipython2",
   "version": "2.7.6"
  }
 },
 "nbformat": 4,
 "nbformat_minor": 5
}
