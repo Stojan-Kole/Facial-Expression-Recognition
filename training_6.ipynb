{
 "cells": [
  {
   "cell_type": "code",
   "id": "initial_id",
   "metadata": {
    "collapsed": true,
    "ExecuteTime": {
     "end_time": "2025-05-13T16:30:24.441178Z",
     "start_time": "2025-05-13T16:30:21.743676Z"
    }
   },
   "source": "from cnn_model_3 import EmotionRecognition",
   "outputs": [],
   "execution_count": 1
  },
  {
   "metadata": {
    "ExecuteTime": {
     "end_time": "2025-05-13T16:30:59.162733Z",
     "start_time": "2025-05-13T16:30:56.009957Z"
    }
   },
   "cell_type": "code",
   "source": [
    "import torch\n",
    "import torch.optim as optim\n",
    "import matplotlib.pyplot as plt\n",
    "from tqdm import tqdm\n",
    "\n",
    "import torch\n",
    "print(torch.cuda.is_available())\n",
    "print(torch.cuda.device_count())\n",
    "print(torch.cuda.get_device_name(0))  # Only if device_count > 0\n",
    "\n",
    "train_loader = torch.load('train_dataloader_aug.pth', weights_only=False)\n",
    "test_loader = torch.load('test_dataloader_aug.pth', weights_only=False)"
   ],
   "id": "c425f6e516c58649",
   "outputs": [
    {
     "name": "stdout",
     "output_type": "stream",
     "text": [
      "True\n",
      "1\n",
      "NVIDIA GeForce RTX 2060\n"
     ]
    }
   ],
   "execution_count": 2
  },
  {
   "metadata": {
    "ExecuteTime": {
     "end_time": "2025-05-13T16:31:27.437170Z",
     "start_time": "2025-05-13T16:31:27.428367Z"
    }
   },
   "cell_type": "code",
   "source": [
    "import torch\n",
    "import torch.nn as nn\n",
    "import torch.nn.functional as F\n",
    "\n",
    "class EmotionRecognition(nn.Module):\n",
    "    def __init__(self):\n",
    "        super(EmotionRecognition, self).__init__()\n",
    "\n",
    "        # Convolutional Block 1\n",
    "        self.conv1 = nn.Conv2d(3, 32, kernel_size=3, padding=1)\n",
    "        self.bn1 = nn.BatchNorm2d(32)\n",
    "\n",
    "        self.conv2 = nn.Conv2d(32, 64, kernel_size=3, padding=1)\n",
    "        self.bn2 = nn.BatchNorm2d(64)\n",
    "\n",
    "        # Convolutional Block 2\n",
    "        self.conv3 = nn.Conv2d(64, 64, kernel_size=3, padding=1)\n",
    "        self.bn3 = nn.BatchNorm2d(64)\n",
    "\n",
    "        self.conv4 = nn.Conv2d(64, 64, kernel_size=3, padding=1)\n",
    "        self.bn4 = nn.BatchNorm2d(64)\n",
    "\n",
    "        self.pool = nn.MaxPool2d(2, 2)\n",
    "        self.dropout = nn.Dropout(0.5)\n",
    "\n",
    "        # Dummy input to determine flatten size after conv layers\n",
    "        with torch.no_grad():\n",
    "            dummy = torch.zeros(1, 3, 48, 48)\n",
    "            dummy = self._forward_conv(dummy)\n",
    "            self.flattened_size = dummy.view(1, -1).size(1)\n",
    "\n",
    "        self.fc1 = nn.Linear(self.flattened_size, 512)\n",
    "        self.fc2 = nn.Linear(512, 7)\n",
    "\n",
    "    def _forward_conv(self, x):\n",
    "        # Only the convolutional part, used for shape inference and forward\n",
    "        x = F.relu(self.bn1(self.conv1(x)))\n",
    "        x = F.relu(self.bn2(self.conv2(x)))\n",
    "        x = self.pool(x)\n",
    "\n",
    "        x = F.relu(self.bn3(self.conv3(x)))\n",
    "        x = F.relu(self.bn4(self.conv4(x)))\n",
    "        x = self.pool(x)\n",
    "        return x\n",
    "\n",
    "    def forward(self, x):\n",
    "        x = self._forward_conv(x)\n",
    "        x = torch.flatten(x, 1)\n",
    "        x = F.relu(self.fc1(x))\n",
    "        x = self.dropout(x)\n",
    "        x = self.fc2(x)\n",
    "        return x\n"
   ],
   "id": "947d35b803ecda4b",
   "outputs": [],
   "execution_count": 3
  },
  {
   "metadata": {
    "ExecuteTime": {
     "end_time": "2025-05-13T16:31:28.229537Z",
     "start_time": "2025-05-13T16:31:28.223839Z"
    }
   },
   "cell_type": "code",
   "source": [
    "class FocalLoss(nn.Module):\n",
    "    def __init__(self, alpha=None, gamma=2.0, reduction='mean'):\n",
    "        \"\"\"\n",
    "        alpha: tensor of shape (num_classes,) for class weights\n",
    "        gamma: focusing parameter\n",
    "        \"\"\"\n",
    "        super(FocalLoss, self).__init__()\n",
    "        self.alpha = alpha  # class weights\n",
    "        self.gamma = gamma\n",
    "        self.reduction = reduction\n",
    "\n",
    "    def forward(self, inputs, targets):\n",
    "        ce_loss = F.cross_entropy(inputs, targets, reduction='none', weight=self.alpha)\n",
    "        pt = torch.exp(-ce_loss)  # pt = probability of the true class\n",
    "        focal_loss = (1 - pt) ** self.gamma * ce_loss\n",
    "\n",
    "        if self.reduction == 'mean':\n",
    "            return focal_loss.mean()\n",
    "        elif self.reduction == 'sum':\n",
    "            return focal_loss.sum()\n",
    "        else:\n",
    "            return focal_loss"
   ],
   "id": "f74163af55602a42",
   "outputs": [],
   "execution_count": 4
  },
  {
   "metadata": {
    "ExecuteTime": {
     "end_time": "2025-05-13T16:32:09.406850Z",
     "start_time": "2025-05-13T16:32:09.112568Z"
    }
   },
   "cell_type": "code",
   "source": [
    "import torch\n",
    "import torch.optim as optim\n",
    "from tqdm import tqdm\n",
    "from sklearn.utils.class_weight import compute_class_weight\n",
    "import numpy as np\n",
    "\n",
    "device = torch.device(\"cuda\" if torch.cuda.is_available() else \"cpu\")\n",
    "torch.manual_seed(42)\n",
    "if device.type == \"cuda\":\n",
    "    torch.cuda.manual_seed(42)\n",
    "print(f\"Using device: {device}\")\n",
    "model = EmotionRecognition().to(device)\n",
    "from torch.optim.lr_scheduler import StepLR\n",
    "import torch.nn as nn\n",
    "\n",
    "class_weights = compute_class_weight(class_weight='balanced',\n",
    "                                     classes=np.unique(train_loader.dataset.targets),\n",
    "                                     y=train_loader.dataset.targets)\n",
    "class_weights_tensor = torch.tensor(class_weights, dtype=torch.float).to(device)\n",
    "\n",
    "criterion = FocalLoss(alpha=class_weights_tensor, gamma=2.0)\n",
    "optimizer = optim.Adam(model.parameters(), lr=0.001, weight_decay=1e-4)\n",
    "scheduler = StepLR(optimizer, step_size=10, gamma=0.5)\n",
    "\n",
    "scaler = torch.cuda.amp.GradScaler() if device.type == \"cuda\" else None\n",
    "\n"
   ],
   "id": "9335bee39bb78271",
   "outputs": [
    {
     "name": "stdout",
     "output_type": "stream",
     "text": [
      "Using device: cuda\n"
     ]
    },
    {
     "name": "stderr",
     "output_type": "stream",
     "text": [
      "C:\\Users\\Korisnik\\AppData\\Local\\Temp\\ipykernel_10884\\2626375699.py:25: FutureWarning: `torch.cuda.amp.GradScaler(args...)` is deprecated. Please use `torch.amp.GradScaler('cuda', args...)` instead.\n",
      "  scaler = torch.cuda.amp.GradScaler() if device.type == \"cuda\" else None\n"
     ]
    }
   ],
   "execution_count": 6
  },
  {
   "metadata": {
    "ExecuteTime": {
     "end_time": "2025-05-13T16:32:35.356624Z",
     "start_time": "2025-05-13T16:32:35.348344Z"
    }
   },
   "cell_type": "code",
   "source": [
    "def train_one_epoch(model, loader, optimizer, criterion, scaler):\n",
    "    model.train()\n",
    "    total_loss, total_correct, total_samples = 0, 0, 0\n",
    "\n",
    "    for images, labels in tqdm(loader, desc=\"Training\", leave=False):\n",
    "        images, labels = images.to(device), labels.to(device)\n",
    "\n",
    "        optimizer.zero_grad()\n",
    "\n",
    "        with torch.cuda.amp.autocast(enabled=scaler is not None):\n",
    "            outputs = model(images)\n",
    "            loss = criterion(outputs, labels)\n",
    "\n",
    "        if scaler:\n",
    "            scaler.scale(loss).backward()\n",
    "            scaler.step(optimizer)\n",
    "            scaler.update()\n",
    "        else:\n",
    "            loss.backward()\n",
    "            optimizer.step()\n",
    "\n",
    "        total_loss += loss.item() * images.size(0)\n",
    "        _, predicted = torch.max(outputs, 1)\n",
    "        total_correct += (predicted == labels).sum().item()\n",
    "        total_samples += labels.size(0)\n",
    "\n",
    "    return total_loss / total_samples, 100. * total_correct / total_samples\n",
    "\n",
    "def evaluate(model, loader):\n",
    "    model.eval()\n",
    "    all_preds, all_labels = [], []\n",
    "\n",
    "    with torch.no_grad():\n",
    "        for images, labels in loader:\n",
    "            images, labels = images.to(device), labels.to(device)\n",
    "            outputs = model(images)\n",
    "            _, predicted = torch.max(outputs, 1)\n",
    "            all_preds.extend(predicted.cpu().numpy())\n",
    "            all_labels.extend(labels.cpu().numpy())\n",
    "\n",
    "    return np.array(all_labels), np.array(all_preds)"
   ],
   "id": "a4e2ad715a7a16ea",
   "outputs": [],
   "execution_count": 7
  },
  {
   "metadata": {
    "ExecuteTime": {
     "end_time": "2025-05-13T18:41:58.890368Z",
     "start_time": "2025-05-13T16:32:35.937155Z"
    }
   },
   "cell_type": "code",
   "source": [
    "best_loss = float('inf')\n",
    "patience = 10\n",
    "epochs_no_improve = 0\n",
    "num_epochs = 100\n",
    "save_path = \"best_model.pth\"\n",
    "\n",
    "for epoch in range(num_epochs):\n",
    "    train_loss, train_acc = train_one_epoch(model, train_loader, optimizer, criterion, scaler)\n",
    "    labels, preds = evaluate(model, test_loader)\n",
    "    test_acc = 100. * np.sum(preds == labels) / len(labels)\n",
    "\n",
    "    scheduler.step()\n",
    "\n",
    "    print(f\"\\nEpoch {epoch+1}/{num_epochs}\")\n",
    "    print(f\"Train Loss: {train_loss:.4f}, Train Acc: {train_acc:.2f}% | Test Acc: {test_acc:.2f}%\")\n",
    "    print(f\"Learning Rate: {scheduler.get_last_lr()[0]:.6f}\")\n",
    "\n",
    "    # Early stopping\n",
    "    if train_loss < best_loss:\n",
    "        best_loss = train_loss\n",
    "        epochs_no_improve = 0\n",
    "        torch.save(model.state_dict(), save_path)\n",
    "        print(\"✅ Saved new best model.\")\n",
    "    else:\n",
    "        epochs_no_improve += 1\n",
    "        if epochs_no_improve >= patience:\n",
    "            print(\"⏹ Early stopping triggered.\")\n",
    "            break"
   ],
   "id": "3c6f0e66f33783f1",
   "outputs": [
    {
     "name": "stderr",
     "output_type": "stream",
     "text": [
      "Training:   0%|          | 0/449 [00:00<?, ?it/s]C:\\Users\\Korisnik\\AppData\\Local\\Temp\\ipykernel_10884\\4020488208.py:10: FutureWarning: `torch.cuda.amp.autocast(args...)` is deprecated. Please use `torch.amp.autocast('cuda', args...)` instead.\n",
      "  with torch.cuda.amp.autocast(enabled=scaler is not None):\n",
      "                                                           \r"
     ]
    },
    {
     "name": "stdout",
     "output_type": "stream",
     "text": [
      "\n",
      "Epoch 1/100\n",
      "Train Loss: 1.6070, Train Acc: 16.23% | Test Acc: 17.83%\n",
      "Learning Rate: 0.001000\n",
      "✅ Saved new best model.\n"
     ]
    },
    {
     "name": "stderr",
     "output_type": "stream",
     "text": [
      "                                                           \r"
     ]
    },
    {
     "name": "stdout",
     "output_type": "stream",
     "text": [
      "\n",
      "Epoch 2/100\n",
      "Train Loss: 1.3645, Train Acc: 17.30% | Test Acc: 23.79%\n",
      "Learning Rate: 0.001000\n",
      "✅ Saved new best model.\n"
     ]
    },
    {
     "name": "stderr",
     "output_type": "stream",
     "text": [
      "                                                           \r"
     ]
    },
    {
     "name": "stdout",
     "output_type": "stream",
     "text": [
      "\n",
      "Epoch 3/100\n",
      "Train Loss: 1.3438, Train Acc: 18.93% | Test Acc: 19.92%\n",
      "Learning Rate: 0.001000\n",
      "✅ Saved new best model.\n"
     ]
    },
    {
     "name": "stderr",
     "output_type": "stream",
     "text": [
      "                                                           \r"
     ]
    },
    {
     "name": "stdout",
     "output_type": "stream",
     "text": [
      "\n",
      "Epoch 4/100\n",
      "Train Loss: 1.3355, Train Acc: 18.82% | Test Acc: 20.21%\n",
      "Learning Rate: 0.001000\n",
      "✅ Saved new best model.\n"
     ]
    },
    {
     "name": "stderr",
     "output_type": "stream",
     "text": [
      "                                                           \r"
     ]
    },
    {
     "name": "stdout",
     "output_type": "stream",
     "text": [
      "\n",
      "Epoch 5/100\n",
      "Train Loss: 1.3303, Train Acc: 18.69% | Test Acc: 20.05%\n",
      "Learning Rate: 0.001000\n",
      "✅ Saved new best model.\n"
     ]
    },
    {
     "name": "stderr",
     "output_type": "stream",
     "text": [
      "                                                           \r"
     ]
    },
    {
     "name": "stdout",
     "output_type": "stream",
     "text": [
      "\n",
      "Epoch 6/100\n",
      "Train Loss: 1.3096, Train Acc: 19.17% | Test Acc: 23.03%\n",
      "Learning Rate: 0.001000\n",
      "✅ Saved new best model.\n"
     ]
    },
    {
     "name": "stderr",
     "output_type": "stream",
     "text": [
      "                                                           \r"
     ]
    },
    {
     "name": "stdout",
     "output_type": "stream",
     "text": [
      "\n",
      "Epoch 7/100\n",
      "Train Loss: 1.3111, Train Acc: 19.31% | Test Acc: 21.72%\n",
      "Learning Rate: 0.001000\n"
     ]
    },
    {
     "name": "stderr",
     "output_type": "stream",
     "text": [
      "                                                           \r"
     ]
    },
    {
     "name": "stdout",
     "output_type": "stream",
     "text": [
      "\n",
      "Epoch 8/100\n",
      "Train Loss: 1.2796, Train Acc: 19.27% | Test Acc: 22.01%\n",
      "Learning Rate: 0.001000\n",
      "✅ Saved new best model.\n"
     ]
    },
    {
     "name": "stderr",
     "output_type": "stream",
     "text": [
      "                                                           \r"
     ]
    },
    {
     "name": "stdout",
     "output_type": "stream",
     "text": [
      "\n",
      "Epoch 9/100\n",
      "Train Loss: 1.2729, Train Acc: 19.66% | Test Acc: 21.30%\n",
      "Learning Rate: 0.001000\n",
      "✅ Saved new best model.\n"
     ]
    },
    {
     "name": "stderr",
     "output_type": "stream",
     "text": [
      "                                                           \r"
     ]
    },
    {
     "name": "stdout",
     "output_type": "stream",
     "text": [
      "\n",
      "Epoch 10/100\n",
      "Train Loss: 1.2651, Train Acc: 15.43% | Test Acc: 15.32%\n",
      "Learning Rate: 0.000500\n",
      "✅ Saved new best model.\n"
     ]
    },
    {
     "name": "stderr",
     "output_type": "stream",
     "text": [
      "                                                           \r"
     ]
    },
    {
     "name": "stdout",
     "output_type": "stream",
     "text": [
      "\n",
      "Epoch 11/100\n",
      "Train Loss: 1.2413, Train Acc: 18.93% | Test Acc: 28.35%\n",
      "Learning Rate: 0.000500\n",
      "✅ Saved new best model.\n"
     ]
    },
    {
     "name": "stderr",
     "output_type": "stream",
     "text": [
      "                                                           \r"
     ]
    },
    {
     "name": "stdout",
     "output_type": "stream",
     "text": [
      "\n",
      "Epoch 12/100\n",
      "Train Loss: 1.2211, Train Acc: 22.43% | Test Acc: 31.44%\n",
      "Learning Rate: 0.000500\n",
      "✅ Saved new best model.\n"
     ]
    },
    {
     "name": "stderr",
     "output_type": "stream",
     "text": [
      "                                                           \r"
     ]
    },
    {
     "name": "stdout",
     "output_type": "stream",
     "text": [
      "\n",
      "Epoch 13/100\n",
      "Train Loss: 1.2135, Train Acc: 22.35% | Test Acc: 35.92%\n",
      "Learning Rate: 0.000500\n",
      "✅ Saved new best model.\n"
     ]
    },
    {
     "name": "stderr",
     "output_type": "stream",
     "text": [
      "                                                           \r"
     ]
    },
    {
     "name": "stdout",
     "output_type": "stream",
     "text": [
      "\n",
      "Epoch 14/100\n",
      "Train Loss: 1.1827, Train Acc: 24.98% | Test Acc: 37.11%\n",
      "Learning Rate: 0.000500\n",
      "✅ Saved new best model.\n"
     ]
    },
    {
     "name": "stderr",
     "output_type": "stream",
     "text": [
      "                                                           \r"
     ]
    },
    {
     "name": "stdout",
     "output_type": "stream",
     "text": [
      "\n",
      "Epoch 15/100\n",
      "Train Loss: 1.1494, Train Acc: 26.38% | Test Acc: 36.18%\n",
      "Learning Rate: 0.000500\n",
      "✅ Saved new best model.\n"
     ]
    },
    {
     "name": "stderr",
     "output_type": "stream",
     "text": [
      "                                                           \r"
     ]
    },
    {
     "name": "stdout",
     "output_type": "stream",
     "text": [
      "\n",
      "Epoch 16/100\n",
      "Train Loss: 1.1319, Train Acc: 26.97% | Test Acc: 36.01%\n",
      "Learning Rate: 0.000500\n",
      "✅ Saved new best model.\n"
     ]
    },
    {
     "name": "stderr",
     "output_type": "stream",
     "text": [
      "                                                           \r"
     ]
    },
    {
     "name": "stdout",
     "output_type": "stream",
     "text": [
      "\n",
      "Epoch 17/100\n",
      "Train Loss: 1.0917, Train Acc: 30.38% | Test Acc: 41.78%\n",
      "Learning Rate: 0.000500\n",
      "✅ Saved new best model.\n"
     ]
    },
    {
     "name": "stderr",
     "output_type": "stream",
     "text": [
      "                                                           \r"
     ]
    },
    {
     "name": "stdout",
     "output_type": "stream",
     "text": [
      "\n",
      "Epoch 18/100\n",
      "Train Loss: 1.0575, Train Acc: 32.07% | Test Acc: 38.79%\n",
      "Learning Rate: 0.000500\n",
      "✅ Saved new best model.\n"
     ]
    },
    {
     "name": "stderr",
     "output_type": "stream",
     "text": [
      "                                                           \r"
     ]
    },
    {
     "name": "stdout",
     "output_type": "stream",
     "text": [
      "\n",
      "Epoch 19/100\n",
      "Train Loss: 1.0139, Train Acc: 36.22% | Test Acc: 44.11%\n",
      "Learning Rate: 0.000500\n",
      "✅ Saved new best model.\n"
     ]
    },
    {
     "name": "stderr",
     "output_type": "stream",
     "text": [
      "                                                           \r"
     ]
    },
    {
     "name": "stdout",
     "output_type": "stream",
     "text": [
      "\n",
      "Epoch 20/100\n",
      "Train Loss: 0.9848, Train Acc: 38.37% | Test Acc: 45.85%\n",
      "Learning Rate: 0.000250\n",
      "✅ Saved new best model.\n"
     ]
    },
    {
     "name": "stderr",
     "output_type": "stream",
     "text": [
      "                                                           \r"
     ]
    },
    {
     "name": "stdout",
     "output_type": "stream",
     "text": [
      "\n",
      "Epoch 21/100\n",
      "Train Loss: 0.9464, Train Acc: 40.50% | Test Acc: 48.06%\n",
      "Learning Rate: 0.000250\n",
      "✅ Saved new best model.\n"
     ]
    },
    {
     "name": "stderr",
     "output_type": "stream",
     "text": [
      "                                                           \r"
     ]
    },
    {
     "name": "stdout",
     "output_type": "stream",
     "text": [
      "\n",
      "Epoch 22/100\n",
      "Train Loss: 0.9265, Train Acc: 41.08% | Test Acc: 47.23%\n",
      "Learning Rate: 0.000250\n",
      "✅ Saved new best model.\n"
     ]
    },
    {
     "name": "stderr",
     "output_type": "stream",
     "text": [
      "                                                           \r"
     ]
    },
    {
     "name": "stdout",
     "output_type": "stream",
     "text": [
      "\n",
      "Epoch 23/100\n",
      "Train Loss: 0.9058, Train Acc: 42.29% | Test Acc: 48.75%\n",
      "Learning Rate: 0.000250\n",
      "✅ Saved new best model.\n"
     ]
    },
    {
     "name": "stderr",
     "output_type": "stream",
     "text": [
      "                                                           \r"
     ]
    },
    {
     "name": "stdout",
     "output_type": "stream",
     "text": [
      "\n",
      "Epoch 24/100\n",
      "Train Loss: 0.8847, Train Acc: 43.55% | Test Acc: 49.43%\n",
      "Learning Rate: 0.000250\n",
      "✅ Saved new best model.\n"
     ]
    },
    {
     "name": "stderr",
     "output_type": "stream",
     "text": [
      "                                                           \r"
     ]
    },
    {
     "name": "stdout",
     "output_type": "stream",
     "text": [
      "\n",
      "Epoch 25/100\n",
      "Train Loss: 0.8816, Train Acc: 43.53% | Test Acc: 50.15%\n",
      "Learning Rate: 0.000250\n",
      "✅ Saved new best model.\n"
     ]
    },
    {
     "name": "stderr",
     "output_type": "stream",
     "text": [
      "                                                           \r"
     ]
    },
    {
     "name": "stdout",
     "output_type": "stream",
     "text": [
      "\n",
      "Epoch 26/100\n",
      "Train Loss: 0.8616, Train Acc: 44.39% | Test Acc: 50.47%\n",
      "Learning Rate: 0.000250\n",
      "✅ Saved new best model.\n"
     ]
    },
    {
     "name": "stderr",
     "output_type": "stream",
     "text": [
      "                                                           \r"
     ]
    },
    {
     "name": "stdout",
     "output_type": "stream",
     "text": [
      "\n",
      "Epoch 27/100\n",
      "Train Loss: 0.8476, Train Acc: 44.74% | Test Acc: 51.91%\n",
      "Learning Rate: 0.000250\n",
      "✅ Saved new best model.\n"
     ]
    },
    {
     "name": "stderr",
     "output_type": "stream",
     "text": [
      "                                                           \r"
     ]
    },
    {
     "name": "stdout",
     "output_type": "stream",
     "text": [
      "\n",
      "Epoch 28/100\n",
      "Train Loss: 0.8327, Train Acc: 45.94% | Test Acc: 51.43%\n",
      "Learning Rate: 0.000250\n",
      "✅ Saved new best model.\n"
     ]
    },
    {
     "name": "stderr",
     "output_type": "stream",
     "text": [
      "                                                           \r"
     ]
    },
    {
     "name": "stdout",
     "output_type": "stream",
     "text": [
      "\n",
      "Epoch 29/100\n",
      "Train Loss: 0.8110, Train Acc: 45.97% | Test Acc: 51.57%\n",
      "Learning Rate: 0.000250\n",
      "✅ Saved new best model.\n"
     ]
    },
    {
     "name": "stderr",
     "output_type": "stream",
     "text": [
      "                                                           \r"
     ]
    },
    {
     "name": "stdout",
     "output_type": "stream",
     "text": [
      "\n",
      "Epoch 30/100\n",
      "Train Loss: 0.8038, Train Acc: 46.74% | Test Acc: 52.24%\n",
      "Learning Rate: 0.000125\n",
      "✅ Saved new best model.\n"
     ]
    },
    {
     "name": "stderr",
     "output_type": "stream",
     "text": [
      "                                                           \r"
     ]
    },
    {
     "name": "stdout",
     "output_type": "stream",
     "text": [
      "\n",
      "Epoch 31/100\n",
      "Train Loss: 0.7669, Train Acc: 48.05% | Test Acc: 51.94%\n",
      "Learning Rate: 0.000125\n",
      "✅ Saved new best model.\n"
     ]
    },
    {
     "name": "stderr",
     "output_type": "stream",
     "text": [
      "                                                           \r"
     ]
    },
    {
     "name": "stdout",
     "output_type": "stream",
     "text": [
      "\n",
      "Epoch 32/100\n",
      "Train Loss: 0.7622, Train Acc: 48.35% | Test Acc: 53.79%\n",
      "Learning Rate: 0.000125\n",
      "✅ Saved new best model.\n"
     ]
    },
    {
     "name": "stderr",
     "output_type": "stream",
     "text": [
      "                                                           \r"
     ]
    },
    {
     "name": "stdout",
     "output_type": "stream",
     "text": [
      "\n",
      "Epoch 33/100\n",
      "Train Loss: 0.7551, Train Acc: 49.04% | Test Acc: 53.13%\n",
      "Learning Rate: 0.000125\n",
      "✅ Saved new best model.\n"
     ]
    },
    {
     "name": "stderr",
     "output_type": "stream",
     "text": [
      "                                                           \r"
     ]
    },
    {
     "name": "stdout",
     "output_type": "stream",
     "text": [
      "\n",
      "Epoch 34/100\n",
      "Train Loss: 0.7440, Train Acc: 49.49% | Test Acc: 53.65%\n",
      "Learning Rate: 0.000125\n",
      "✅ Saved new best model.\n"
     ]
    },
    {
     "name": "stderr",
     "output_type": "stream",
     "text": [
      "                                                           \r"
     ]
    },
    {
     "name": "stdout",
     "output_type": "stream",
     "text": [
      "\n",
      "Epoch 35/100\n",
      "Train Loss: 0.7259, Train Acc: 49.31% | Test Acc: 54.14%\n",
      "Learning Rate: 0.000125\n",
      "✅ Saved new best model.\n"
     ]
    },
    {
     "name": "stderr",
     "output_type": "stream",
     "text": [
      "                                                           \r"
     ]
    },
    {
     "name": "stdout",
     "output_type": "stream",
     "text": [
      "\n",
      "Epoch 36/100\n",
      "Train Loss: 0.7240, Train Acc: 50.24% | Test Acc: 54.71%\n",
      "Learning Rate: 0.000125\n",
      "✅ Saved new best model.\n"
     ]
    },
    {
     "name": "stderr",
     "output_type": "stream",
     "text": [
      "                                                           \r"
     ]
    },
    {
     "name": "stdout",
     "output_type": "stream",
     "text": [
      "\n",
      "Epoch 37/100\n",
      "Train Loss: 0.7073, Train Acc: 50.32% | Test Acc: 53.73%\n",
      "Learning Rate: 0.000125\n",
      "✅ Saved new best model.\n"
     ]
    },
    {
     "name": "stderr",
     "output_type": "stream",
     "text": [
      "                                                           \r"
     ]
    },
    {
     "name": "stdout",
     "output_type": "stream",
     "text": [
      "\n",
      "Epoch 38/100\n",
      "Train Loss: 0.7123, Train Acc: 50.25% | Test Acc: 54.81%\n",
      "Learning Rate: 0.000125\n"
     ]
    },
    {
     "name": "stderr",
     "output_type": "stream",
     "text": [
      "                                                           \r"
     ]
    },
    {
     "name": "stdout",
     "output_type": "stream",
     "text": [
      "\n",
      "Epoch 39/100\n",
      "Train Loss: 0.7019, Train Acc: 50.79% | Test Acc: 54.82%\n",
      "Learning Rate: 0.000125\n",
      "✅ Saved new best model.\n"
     ]
    },
    {
     "name": "stderr",
     "output_type": "stream",
     "text": [
      "                                                           \r"
     ]
    },
    {
     "name": "stdout",
     "output_type": "stream",
     "text": [
      "\n",
      "Epoch 40/100\n",
      "Train Loss: 0.6954, Train Acc: 50.98% | Test Acc: 55.41%\n",
      "Learning Rate: 0.000063\n",
      "✅ Saved new best model.\n"
     ]
    },
    {
     "name": "stderr",
     "output_type": "stream",
     "text": [
      "                                                           \r"
     ]
    },
    {
     "name": "stdout",
     "output_type": "stream",
     "text": [
      "\n",
      "Epoch 41/100\n",
      "Train Loss: 0.6803, Train Acc: 52.19% | Test Acc: 55.64%\n",
      "Learning Rate: 0.000063\n",
      "✅ Saved new best model.\n"
     ]
    },
    {
     "name": "stderr",
     "output_type": "stream",
     "text": [
      "                                                           \r"
     ]
    },
    {
     "name": "stdout",
     "output_type": "stream",
     "text": [
      "\n",
      "Epoch 42/100\n",
      "Train Loss: 0.6757, Train Acc: 52.05% | Test Acc: 54.95%\n",
      "Learning Rate: 0.000063\n",
      "✅ Saved new best model.\n"
     ]
    },
    {
     "name": "stderr",
     "output_type": "stream",
     "text": [
      "                                                           \r"
     ]
    },
    {
     "name": "stdout",
     "output_type": "stream",
     "text": [
      "\n",
      "Epoch 43/100\n",
      "Train Loss: 0.6693, Train Acc: 52.20% | Test Acc: 55.43%\n",
      "Learning Rate: 0.000063\n",
      "✅ Saved new best model.\n"
     ]
    },
    {
     "name": "stderr",
     "output_type": "stream",
     "text": [
      "                                                           \r"
     ]
    },
    {
     "name": "stdout",
     "output_type": "stream",
     "text": [
      "\n",
      "Epoch 44/100\n",
      "Train Loss: 0.6554, Train Acc: 52.67% | Test Acc: 56.20%\n",
      "Learning Rate: 0.000063\n",
      "✅ Saved new best model.\n"
     ]
    },
    {
     "name": "stderr",
     "output_type": "stream",
     "text": [
      "                                                           \r"
     ]
    },
    {
     "name": "stdout",
     "output_type": "stream",
     "text": [
      "\n",
      "Epoch 45/100\n",
      "Train Loss: 0.6549, Train Acc: 53.12% | Test Acc: 55.85%\n",
      "Learning Rate: 0.000063\n",
      "✅ Saved new best model.\n"
     ]
    },
    {
     "name": "stderr",
     "output_type": "stream",
     "text": [
      "                                                           \r"
     ]
    },
    {
     "name": "stdout",
     "output_type": "stream",
     "text": [
      "\n",
      "Epoch 46/100\n",
      "Train Loss: 0.6496, Train Acc: 52.90% | Test Acc: 56.49%\n",
      "Learning Rate: 0.000063\n",
      "✅ Saved new best model.\n"
     ]
    },
    {
     "name": "stderr",
     "output_type": "stream",
     "text": [
      "                                                           \r"
     ]
    },
    {
     "name": "stdout",
     "output_type": "stream",
     "text": [
      "\n",
      "Epoch 47/100\n",
      "Train Loss: 0.6525, Train Acc: 52.75% | Test Acc: 56.06%\n",
      "Learning Rate: 0.000063\n"
     ]
    },
    {
     "name": "stderr",
     "output_type": "stream",
     "text": [
      "                                                           \r"
     ]
    },
    {
     "name": "stdout",
     "output_type": "stream",
     "text": [
      "\n",
      "Epoch 48/100\n",
      "Train Loss: 0.6456, Train Acc: 53.14% | Test Acc: 56.46%\n",
      "Learning Rate: 0.000063\n",
      "✅ Saved new best model.\n"
     ]
    },
    {
     "name": "stderr",
     "output_type": "stream",
     "text": [
      "                                                           \r"
     ]
    },
    {
     "name": "stdout",
     "output_type": "stream",
     "text": [
      "\n",
      "Epoch 49/100\n",
      "Train Loss: 0.6479, Train Acc: 53.27% | Test Acc: 55.84%\n",
      "Learning Rate: 0.000063\n"
     ]
    },
    {
     "name": "stderr",
     "output_type": "stream",
     "text": [
      "                                                           \r"
     ]
    },
    {
     "name": "stdout",
     "output_type": "stream",
     "text": [
      "\n",
      "Epoch 50/100\n",
      "Train Loss: 0.6359, Train Acc: 53.58% | Test Acc: 56.09%\n",
      "Learning Rate: 0.000031\n",
      "✅ Saved new best model.\n"
     ]
    },
    {
     "name": "stderr",
     "output_type": "stream",
     "text": [
      "                                                           \r"
     ]
    },
    {
     "name": "stdout",
     "output_type": "stream",
     "text": [
      "\n",
      "Epoch 51/100\n",
      "Train Loss: 0.6420, Train Acc: 53.48% | Test Acc: 56.19%\n",
      "Learning Rate: 0.000031\n"
     ]
    },
    {
     "name": "stderr",
     "output_type": "stream",
     "text": [
      "                                                           \r"
     ]
    },
    {
     "name": "stdout",
     "output_type": "stream",
     "text": [
      "\n",
      "Epoch 52/100\n",
      "Train Loss: 0.6239, Train Acc: 54.17% | Test Acc: 56.85%\n",
      "Learning Rate: 0.000031\n",
      "✅ Saved new best model.\n"
     ]
    },
    {
     "name": "stderr",
     "output_type": "stream",
     "text": [
      "                                                           \r"
     ]
    },
    {
     "name": "stdout",
     "output_type": "stream",
     "text": [
      "\n",
      "Epoch 53/100\n",
      "Train Loss: 0.6253, Train Acc: 53.85% | Test Acc: 56.38%\n",
      "Learning Rate: 0.000031\n"
     ]
    },
    {
     "name": "stderr",
     "output_type": "stream",
     "text": [
      "                                                           \r"
     ]
    },
    {
     "name": "stdout",
     "output_type": "stream",
     "text": [
      "\n",
      "Epoch 54/100\n",
      "Train Loss: 0.6304, Train Acc: 54.13% | Test Acc: 56.51%\n",
      "Learning Rate: 0.000031\n"
     ]
    },
    {
     "name": "stderr",
     "output_type": "stream",
     "text": [
      "                                                           \r"
     ]
    },
    {
     "name": "stdout",
     "output_type": "stream",
     "text": [
      "\n",
      "Epoch 55/100\n",
      "Train Loss: 0.6230, Train Acc: 54.29% | Test Acc: 56.38%\n",
      "Learning Rate: 0.000031\n",
      "✅ Saved new best model.\n"
     ]
    },
    {
     "name": "stderr",
     "output_type": "stream",
     "text": [
      "                                                           \r"
     ]
    },
    {
     "name": "stdout",
     "output_type": "stream",
     "text": [
      "\n",
      "Epoch 56/100\n",
      "Train Loss: 0.6247, Train Acc: 53.61% | Test Acc: 57.17%\n",
      "Learning Rate: 0.000031\n"
     ]
    },
    {
     "name": "stderr",
     "output_type": "stream",
     "text": [
      "                                                           \r"
     ]
    },
    {
     "name": "stdout",
     "output_type": "stream",
     "text": [
      "\n",
      "Epoch 57/100\n",
      "Train Loss: 0.6198, Train Acc: 54.62% | Test Acc: 56.83%\n",
      "Learning Rate: 0.000031\n",
      "✅ Saved new best model.\n"
     ]
    },
    {
     "name": "stderr",
     "output_type": "stream",
     "text": [
      "                                                           \r"
     ]
    },
    {
     "name": "stdout",
     "output_type": "stream",
     "text": [
      "\n",
      "Epoch 58/100\n",
      "Train Loss: 0.6152, Train Acc: 54.36% | Test Acc: 57.13%\n",
      "Learning Rate: 0.000031\n",
      "✅ Saved new best model.\n"
     ]
    },
    {
     "name": "stderr",
     "output_type": "stream",
     "text": [
      "                                                           \r"
     ]
    },
    {
     "name": "stdout",
     "output_type": "stream",
     "text": [
      "\n",
      "Epoch 59/100\n",
      "Train Loss: 0.6150, Train Acc: 54.47% | Test Acc: 56.66%\n",
      "Learning Rate: 0.000031\n",
      "✅ Saved new best model.\n"
     ]
    },
    {
     "name": "stderr",
     "output_type": "stream",
     "text": [
      "                                                           \r"
     ]
    },
    {
     "name": "stdout",
     "output_type": "stream",
     "text": [
      "\n",
      "Epoch 60/100\n",
      "Train Loss: 0.6064, Train Acc: 54.24% | Test Acc: 56.94%\n",
      "Learning Rate: 0.000016\n",
      "✅ Saved new best model.\n"
     ]
    },
    {
     "name": "stderr",
     "output_type": "stream",
     "text": [
      "                                                           \r"
     ]
    },
    {
     "name": "stdout",
     "output_type": "stream",
     "text": [
      "\n",
      "Epoch 61/100\n",
      "Train Loss: 0.6090, Train Acc: 54.62% | Test Acc: 57.09%\n",
      "Learning Rate: 0.000016\n"
     ]
    },
    {
     "name": "stderr",
     "output_type": "stream",
     "text": [
      "                                                           \r"
     ]
    },
    {
     "name": "stdout",
     "output_type": "stream",
     "text": [
      "\n",
      "Epoch 62/100\n",
      "Train Loss: 0.6081, Train Acc: 54.73% | Test Acc: 56.78%\n",
      "Learning Rate: 0.000016\n"
     ]
    },
    {
     "name": "stderr",
     "output_type": "stream",
     "text": [
      "                                                           \r"
     ]
    },
    {
     "name": "stdout",
     "output_type": "stream",
     "text": [
      "\n",
      "Epoch 63/100\n",
      "Train Loss: 0.6053, Train Acc: 54.72% | Test Acc: 57.33%\n",
      "Learning Rate: 0.000016\n",
      "✅ Saved new best model.\n"
     ]
    },
    {
     "name": "stderr",
     "output_type": "stream",
     "text": [
      "                                                           \r"
     ]
    },
    {
     "name": "stdout",
     "output_type": "stream",
     "text": [
      "\n",
      "Epoch 64/100\n",
      "Train Loss: 0.6075, Train Acc: 54.70% | Test Acc: 57.09%\n",
      "Learning Rate: 0.000016\n"
     ]
    },
    {
     "name": "stderr",
     "output_type": "stream",
     "text": [
      "                                                           \r"
     ]
    },
    {
     "name": "stdout",
     "output_type": "stream",
     "text": [
      "\n",
      "Epoch 65/100\n",
      "Train Loss: 0.6026, Train Acc: 54.85% | Test Acc: 57.02%\n",
      "Learning Rate: 0.000016\n",
      "✅ Saved new best model.\n"
     ]
    },
    {
     "name": "stderr",
     "output_type": "stream",
     "text": [
      "                                                           \r"
     ]
    },
    {
     "name": "stdout",
     "output_type": "stream",
     "text": [
      "\n",
      "Epoch 66/100\n",
      "Train Loss: 0.6088, Train Acc: 54.84% | Test Acc: 57.12%\n",
      "Learning Rate: 0.000016\n"
     ]
    },
    {
     "name": "stderr",
     "output_type": "stream",
     "text": [
      "                                                           \r"
     ]
    },
    {
     "name": "stdout",
     "output_type": "stream",
     "text": [
      "\n",
      "Epoch 67/100\n",
      "Train Loss: 0.5982, Train Acc: 55.25% | Test Acc: 56.97%\n",
      "Learning Rate: 0.000016\n",
      "✅ Saved new best model.\n"
     ]
    },
    {
     "name": "stderr",
     "output_type": "stream",
     "text": [
      "                                                           \r"
     ]
    },
    {
     "name": "stdout",
     "output_type": "stream",
     "text": [
      "\n",
      "Epoch 68/100\n",
      "Train Loss: 0.5972, Train Acc: 55.31% | Test Acc: 56.85%\n",
      "Learning Rate: 0.000016\n",
      "✅ Saved new best model.\n"
     ]
    },
    {
     "name": "stderr",
     "output_type": "stream",
     "text": [
      "                                                           \r"
     ]
    },
    {
     "name": "stdout",
     "output_type": "stream",
     "text": [
      "\n",
      "Epoch 69/100\n",
      "Train Loss: 0.6000, Train Acc: 54.83% | Test Acc: 57.20%\n",
      "Learning Rate: 0.000016\n"
     ]
    },
    {
     "name": "stderr",
     "output_type": "stream",
     "text": [
      "                                                           \r"
     ]
    },
    {
     "name": "stdout",
     "output_type": "stream",
     "text": [
      "\n",
      "Epoch 70/100\n",
      "Train Loss: 0.5907, Train Acc: 55.55% | Test Acc: 57.19%\n",
      "Learning Rate: 0.000008\n",
      "✅ Saved new best model.\n"
     ]
    },
    {
     "name": "stderr",
     "output_type": "stream",
     "text": [
      "                                                           \r"
     ]
    },
    {
     "name": "stdout",
     "output_type": "stream",
     "text": [
      "\n",
      "Epoch 71/100\n",
      "Train Loss: 0.5937, Train Acc: 55.56% | Test Acc: 57.08%\n",
      "Learning Rate: 0.000008\n"
     ]
    },
    {
     "name": "stderr",
     "output_type": "stream",
     "text": [
      "                                                           \r"
     ]
    },
    {
     "name": "stdout",
     "output_type": "stream",
     "text": [
      "\n",
      "Epoch 72/100\n",
      "Train Loss: 0.5919, Train Acc: 55.42% | Test Acc: 56.95%\n",
      "Learning Rate: 0.000008\n"
     ]
    },
    {
     "name": "stderr",
     "output_type": "stream",
     "text": [
      "                                                           \r"
     ]
    },
    {
     "name": "stdout",
     "output_type": "stream",
     "text": [
      "\n",
      "Epoch 73/100\n",
      "Train Loss: 0.5909, Train Acc: 55.45% | Test Acc: 57.16%\n",
      "Learning Rate: 0.000008\n"
     ]
    },
    {
     "name": "stderr",
     "output_type": "stream",
     "text": [
      "                                                           \r"
     ]
    },
    {
     "name": "stdout",
     "output_type": "stream",
     "text": [
      "\n",
      "Epoch 74/100\n",
      "Train Loss: 0.5879, Train Acc: 55.77% | Test Acc: 56.90%\n",
      "Learning Rate: 0.000008\n",
      "✅ Saved new best model.\n"
     ]
    },
    {
     "name": "stderr",
     "output_type": "stream",
     "text": [
      "                                                           \r"
     ]
    },
    {
     "name": "stdout",
     "output_type": "stream",
     "text": [
      "\n",
      "Epoch 75/100\n",
      "Train Loss: 0.5862, Train Acc: 55.36% | Test Acc: 57.20%\n",
      "Learning Rate: 0.000008\n",
      "✅ Saved new best model.\n"
     ]
    },
    {
     "name": "stderr",
     "output_type": "stream",
     "text": [
      "                                                           \r"
     ]
    },
    {
     "name": "stdout",
     "output_type": "stream",
     "text": [
      "\n",
      "Epoch 76/100\n",
      "Train Loss: 0.5980, Train Acc: 55.36% | Test Acc: 56.92%\n",
      "Learning Rate: 0.000008\n"
     ]
    },
    {
     "name": "stderr",
     "output_type": "stream",
     "text": [
      "                                                           \r"
     ]
    },
    {
     "name": "stdout",
     "output_type": "stream",
     "text": [
      "\n",
      "Epoch 77/100\n",
      "Train Loss: 0.5866, Train Acc: 55.31% | Test Acc: 57.08%\n",
      "Learning Rate: 0.000008\n"
     ]
    },
    {
     "name": "stderr",
     "output_type": "stream",
     "text": [
      "                                                           \r"
     ]
    },
    {
     "name": "stdout",
     "output_type": "stream",
     "text": [
      "\n",
      "Epoch 78/100\n",
      "Train Loss: 0.5866, Train Acc: 55.73% | Test Acc: 57.22%\n",
      "Learning Rate: 0.000008\n"
     ]
    },
    {
     "name": "stderr",
     "output_type": "stream",
     "text": [
      "                                                           \r"
     ]
    },
    {
     "name": "stdout",
     "output_type": "stream",
     "text": [
      "\n",
      "Epoch 79/100\n",
      "Train Loss: 0.5853, Train Acc: 55.61% | Test Acc: 57.11%\n",
      "Learning Rate: 0.000008\n",
      "✅ Saved new best model.\n"
     ]
    },
    {
     "name": "stderr",
     "output_type": "stream",
     "text": [
      "                                                           \r"
     ]
    },
    {
     "name": "stdout",
     "output_type": "stream",
     "text": [
      "\n",
      "Epoch 80/100\n",
      "Train Loss: 0.5895, Train Acc: 55.78% | Test Acc: 57.26%\n",
      "Learning Rate: 0.000004\n"
     ]
    },
    {
     "name": "stderr",
     "output_type": "stream",
     "text": [
      "                                                           \r"
     ]
    },
    {
     "name": "stdout",
     "output_type": "stream",
     "text": [
      "\n",
      "Epoch 81/100\n",
      "Train Loss: 0.5904, Train Acc: 55.49% | Test Acc: 56.94%\n",
      "Learning Rate: 0.000004\n"
     ]
    },
    {
     "name": "stderr",
     "output_type": "stream",
     "text": [
      "                                                           \r"
     ]
    },
    {
     "name": "stdout",
     "output_type": "stream",
     "text": [
      "\n",
      "Epoch 82/100\n",
      "Train Loss: 0.5925, Train Acc: 55.50% | Test Acc: 57.01%\n",
      "Learning Rate: 0.000004\n"
     ]
    },
    {
     "name": "stderr",
     "output_type": "stream",
     "text": [
      "                                                           \r"
     ]
    },
    {
     "name": "stdout",
     "output_type": "stream",
     "text": [
      "\n",
      "Epoch 83/100\n",
      "Train Loss: 0.5867, Train Acc: 55.63% | Test Acc: 57.33%\n",
      "Learning Rate: 0.000004\n"
     ]
    },
    {
     "name": "stderr",
     "output_type": "stream",
     "text": [
      "                                                           \r"
     ]
    },
    {
     "name": "stdout",
     "output_type": "stream",
     "text": [
      "\n",
      "Epoch 84/100\n",
      "Train Loss: 0.5862, Train Acc: 55.61% | Test Acc: 57.33%\n",
      "Learning Rate: 0.000004\n"
     ]
    },
    {
     "name": "stderr",
     "output_type": "stream",
     "text": [
      "                                                           \r"
     ]
    },
    {
     "name": "stdout",
     "output_type": "stream",
     "text": [
      "\n",
      "Epoch 85/100\n",
      "Train Loss: 0.5923, Train Acc: 55.70% | Test Acc: 57.22%\n",
      "Learning Rate: 0.000004\n"
     ]
    },
    {
     "name": "stderr",
     "output_type": "stream",
     "text": [
      "                                                           \r"
     ]
    },
    {
     "name": "stdout",
     "output_type": "stream",
     "text": [
      "\n",
      "Epoch 86/100\n",
      "Train Loss: 0.5922, Train Acc: 56.07% | Test Acc: 57.05%\n",
      "Learning Rate: 0.000004\n"
     ]
    },
    {
     "name": "stderr",
     "output_type": "stream",
     "text": [
      "                                                           \r"
     ]
    },
    {
     "name": "stdout",
     "output_type": "stream",
     "text": [
      "\n",
      "Epoch 87/100\n",
      "Train Loss: 0.5870, Train Acc: 55.30% | Test Acc: 57.40%\n",
      "Learning Rate: 0.000004\n"
     ]
    },
    {
     "name": "stderr",
     "output_type": "stream",
     "text": [
      "                                                           \r"
     ]
    },
    {
     "name": "stdout",
     "output_type": "stream",
     "text": [
      "\n",
      "Epoch 88/100\n",
      "Train Loss: 0.5884, Train Acc: 55.48% | Test Acc: 57.33%\n",
      "Learning Rate: 0.000004\n"
     ]
    },
    {
     "name": "stderr",
     "output_type": "stream",
     "text": [
      "                                                           \r"
     ]
    },
    {
     "name": "stdout",
     "output_type": "stream",
     "text": [
      "\n",
      "Epoch 89/100\n",
      "Train Loss: 0.5869, Train Acc: 55.61% | Test Acc: 57.06%\n",
      "Learning Rate: 0.000004\n",
      "⏹ Early stopping triggered.\n"
     ]
    }
   ],
   "execution_count": 8
  },
  {
   "metadata": {
    "ExecuteTime": {
     "end_time": "2025-05-13T18:42:04.295564Z",
     "start_time": "2025-05-13T18:41:58.956451Z"
    }
   },
   "cell_type": "code",
   "source": [
    "from sklearn.metrics import classification_report, confusion_matrix\n",
    "\n",
    "# Final evaluation\n",
    "model.load_state_dict(torch.load(save_path))\n",
    "model.eval()\n",
    "labels, preds = evaluate(model, test_loader)\n",
    "\n",
    "emotion_labels = ['Angry', 'Disgust', 'Fear', 'Happy', 'Sad', 'Surprise', 'Neutral']\n",
    "print(\"\\nClassification Report:\")\n",
    "print(classification_report(labels, preds, target_names=emotion_labels))\n",
    "print(\"Confusion Matrix:\")\n",
    "print(confusion_matrix(labels, preds))"
   ],
   "id": "4f87a856594b1127",
   "outputs": [
    {
     "name": "stdout",
     "output_type": "stream",
     "text": [
      "\n",
      "Classification Report:\n",
      "              precision    recall  f1-score   support\n",
      "\n",
      "       Angry       0.44      0.52      0.47       958\n",
      "     Disgust       0.37      0.68      0.48       111\n",
      "        Fear       0.39      0.30      0.34      1024\n",
      "       Happy       0.89      0.70      0.78      1774\n",
      "         Sad       0.55      0.56      0.56      1233\n",
      "    Surprise       0.45      0.48      0.46      1247\n",
      "     Neutral       0.66      0.82      0.73       831\n",
      "\n",
      "    accuracy                           0.57      7178\n",
      "   macro avg       0.53      0.58      0.55      7178\n",
      "weighted avg       0.59      0.57      0.57      7178\n",
      "\n",
      "Confusion Matrix:\n",
      "[[ 497   50  100   26   98  149   38]\n",
      " [  20   76    5    1    3    3    3]\n",
      " [ 164   20  307   26  109  226  172]\n",
      " [ 122    9   62 1245  142  118   76]\n",
      " [ 122   13   88   48  696  231   35]\n",
      " [ 187   32  156   36  206  599   31]\n",
      " [  27    5   69   22   17   12  679]]\n"
     ]
    }
   ],
   "execution_count": 9
  },
  {
   "metadata": {
    "ExecuteTime": {
     "end_time": "2025-05-13T19:32:52.065559Z",
     "start_time": "2025-05-13T19:31:54.865820Z"
    }
   },
   "cell_type": "code",
   "source": [
    "import torch\n",
    "from sklearn.metrics import classification_report, confusion_matrix\n",
    "import numpy as np\n",
    "import seaborn as sns\n",
    "import matplotlib.pyplot as plt\n",
    "\n",
    "# Set model to evaluation mode\n",
    "model.eval()\n",
    "\n",
    "emotion_labels = ['Angry', 'Disgust', 'Fear', 'Happy', 'Sad', 'Surprise', 'Neutral']\n",
    "\n",
    "\n",
    "# Containers for predictions and true labels\n",
    "all_preds = []\n",
    "all_labels = []\n",
    "\n",
    "with torch.no_grad():\n",
    "    for images, labels in test_loader:\n",
    "        images = images.to(device)\n",
    "        labels = labels.to(device)\n",
    "\n",
    "        outputs = model(images)\n",
    "        _, predicted = torch.max(outputs, 1)\n",
    "\n",
    "        all_preds.extend(predicted.cpu().numpy())\n",
    "        all_labels.extend(labels.cpu().numpy())\n",
    "\n",
    "# Convert to numpy arrays\n",
    "all_preds = np.array(all_preds)\n",
    "all_labels = np.array(all_labels)\n",
    "\n",
    "# Print classification report\n",
    "print(\"Classification Report:\")\n",
    "print(classification_report(all_labels, all_preds, target_names=emotion_labels))\n",
    "\n",
    "# Print confusion matrix\n",
    "print(\"Confusion Matrix:\")\n",
    "print(confusion_matrix(all_labels, all_preds))\n",
    "\n",
    "cm = confusion_matrix(all_labels, all_preds)\n",
    "plt.figure(figsize=(8, 6))\n",
    "sns.heatmap(cm, annot=True, fmt='d', cmap=\"Blues\")\n",
    "plt.xlabel('Predicted')\n",
    "plt.ylabel('True')\n",
    "plt.title('Confusion Matrix')\n",
    "plt.show()"
   ],
   "id": "604d1a59915344c3",
   "outputs": [
    {
     "name": "stdout",
     "output_type": "stream",
     "text": [
      "Classification Report:\n",
      "              precision    recall  f1-score   support\n",
      "\n",
      "       Angry       0.44      0.52      0.47       958\n",
      "     Disgust       0.37      0.68      0.48       111\n",
      "        Fear       0.39      0.30      0.34      1024\n",
      "       Happy       0.89      0.70      0.78      1774\n",
      "         Sad       0.55      0.56      0.56      1233\n",
      "    Surprise       0.45      0.48      0.46      1247\n",
      "     Neutral       0.66      0.82      0.73       831\n",
      "\n",
      "    accuracy                           0.57      7178\n",
      "   macro avg       0.53      0.58      0.55      7178\n",
      "weighted avg       0.59      0.57      0.57      7178\n",
      "\n",
      "Confusion Matrix:\n",
      "[[ 497   50  100   26   98  149   38]\n",
      " [  20   76    5    1    3    3    3]\n",
      " [ 164   20  307   26  109  226  172]\n",
      " [ 122    9   62 1245  142  118   76]\n",
      " [ 122   13   88   48  696  231   35]\n",
      " [ 187   32  156   36  206  599   31]\n",
      " [  27    5   69   22   17   12  679]]\n"
     ]
    },
    {
     "data": {
      "text/plain": [
       "<Figure size 800x600 with 2 Axes>"
      ],
      "image/png": "[encoded data removed]"
     },
     "metadata": {},
     "output_type": "display_data"
    }
   ],
   "execution_count": 14
  },
  {
   "metadata": {},
   "cell_type": "code",
   "outputs": [],
   "execution_count": null,
   "source": "",
   "id": "b25a5afc5be8ee3c"
  }
 ],
 "metadata": {
  "kernelspec": {
   "display_name": "Python 3",
   "language": "python",
   "name": "python3"
  },
  "language_info": {
   "codemirror_mode": {
    "name": "ipython",
    "version": 2
   },
   "file_extension": ".py",
   "mimetype": "text/x-python",
   "name": "python",
   "nbconvert_exporter": "python",
   "pygments_lexer": "ipython2",
   "version": "2.7.6"
  }
 },
 "nbformat": 4,
 "nbformat_minor": 5
}
