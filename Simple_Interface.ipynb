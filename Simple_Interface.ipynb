{
 "cells": [
  {
   "cell_type": "code",
   "id": "initial_id",
   "metadata": {
    "collapsed": true,
    "ExecuteTime": {
     "end_time": "2025-05-15T08:55:51.796103Z",
     "start_time": "2025-05-15T08:55:51.791080Z"
    }
   },
   "source": [
    "import tkinter as tk\n",
    "from tkinter import filedialog\n",
    "from PIL import Image, ImageTk\n",
    "import torch\n",
    "import torchvision.transforms as transforms\n",
    "import torch.nn.functional as F\n",
    "from cnn_model_4 import EmotionRecognition"
   ],
   "outputs": [],
   "execution_count": 7
  },
  {
   "metadata": {
    "ExecuteTime": {
     "end_time": "2025-05-15T08:55:52.177056Z",
     "start_time": "2025-05-15T08:55:52.031776Z"
    }
   },
   "cell_type": "code",
   "source": [
    "device = torch.device('cuda' if torch.cuda.is_available() else 'cpu')\n",
    "model = EmotionRecognition().to(device)\n",
    "model.load_state_dict(torch.load(\"best_model.pth\", map_location=device))\n",
    "model.eval()\n",
    "\n",
    "# Emotion labels\n",
    "class_names = ['Angry', 'Disgust', 'Fear', 'Happy', 'Sad', 'Surprise', 'Neutral']\n",
    "\n",
    "# Image transform\n",
    "transform = transforms.Compose([\n",
    "    transforms.Grayscale(num_output_channels=3),\n",
    "    transforms.Resize((48, 48)),\n",
    "    transforms.ToTensor(),\n",
    "    transforms.Normalize((0.5,), (0.5,))\n",
    "])"
   ],
   "id": "aa875bb59ef218",
   "outputs": [],
   "execution_count": 8
  },
  {
   "metadata": {
    "ExecuteTime": {
     "end_time": "2025-05-15T08:55:52.380986Z",
     "start_time": "2025-05-15T08:55:52.281024Z"
    }
   },
   "cell_type": "code",
   "source": [
    "window = tk.Tk()\n",
    "window.title(\"Emotion Recognition\")\n",
    "window.geometry(\"400x500\")\n",
    "\n",
    "label = tk.Label(window, text=\"Upload a face image\", font=(\"Arial\", 14))\n",
    "label.pack(pady=10)\n",
    "\n",
    "canvas = tk.Canvas(window, width=200, height=200)\n",
    "canvas.pack()\n",
    "\n",
    "result_label = tk.Label(window, text=\"\", font=(\"Arial\", 16))\n",
    "result_label.pack(pady=20)"
   ],
   "id": "746f76dd1a0b1058",
   "outputs": [],
   "execution_count": 9
  },
  {
   "metadata": {
    "ExecuteTime": {
     "end_time": "2025-05-15T08:55:52.489456Z",
     "start_time": "2025-05-15T08:55:52.482790Z"
    }
   },
   "cell_type": "code",
   "source": [
    "def upload_image():\n",
    "    file_path = filedialog.askopenfilename()\n",
    "    if not file_path:\n",
    "        return\n",
    "\n",
    "    img = Image.open(file_path).convert(\"RGB\")\n",
    "    img.thumbnail((200, 200))\n",
    "    tk_img = ImageTk.PhotoImage(img)\n",
    "    canvas.create_image(100, 100, image=tk_img)\n",
    "    canvas.image = tk_img\n",
    "\n",
    "    img_tensor = transform(img).unsqueeze(0).to(device)\n",
    "\n",
    "    with torch.no_grad():\n",
    "        outputs = model(img_tensor)\n",
    "        probs = F.softmax(outputs, dim=1)\n",
    "        top_prob, top_class = torch.max(probs, 1)\n",
    "\n",
    "    emotion = class_names[top_class.item()]\n",
    "    result_label.config(text=f\"Predicted Emotion: {emotion}\")"
   ],
   "id": "a73f2037b5ac5c9a",
   "outputs": [],
   "execution_count": 10
  },
  {
   "metadata": {
    "ExecuteTime": {
     "end_time": "2025-05-15T08:56:05.772741Z",
     "start_time": "2025-05-15T08:55:52.893224Z"
    }
   },
   "cell_type": "code",
   "source": [
    "button = tk.Button(window, text=\"Upload Image\", command=upload_image)\n",
    "button.pack(pady=10)\n",
    "\n",
    "window.mainloop()"
   ],
   "id": "7bce38fd7e47d100",
   "outputs": [],
   "execution_count": 11
  }
 ],
 "metadata": {
  "kernelspec": {
   "display_name": "Python 3",
   "language": "python",
   "name": "python3"
  },
  "language_info": {
   "codemirror_mode": {
    "name": "ipython",
    "version": 2
   },
   "file_extension": ".py",
   "mimetype": "text/x-python",
   "name": "python",
   "nbconvert_exporter": "python",
   "pygments_lexer": "ipython2",
   "version": "2.7.6"
  }
 },
 "nbformat": 4,
 "nbformat_minor": 5
}
